{
 "cells": [
  {
   "cell_type": "markdown",
   "id": "6996d432",
   "metadata": {},
   "source": [
    "# Operators"
   ]
  },
  {
   "cell_type": "markdown",
   "id": "4811ccab",
   "metadata": {},
   "source": [
    "# logical"
   ]
  },
  {
   "cell_type": "code",
   "execution_count": null,
   "id": "8fc6f588",
   "metadata": {},
   "outputs": [],
   "source": [
    "if condition:\n",
    "    print(\"execute the statement\")\n",
    "else:\n",
    "    print(\"execute the reverse statement\")"
   ]
  },
  {
   "cell_type": "markdown",
   "id": "eaea4ee2",
   "metadata": {},
   "source": [
    "- not\n",
    "- and\n",
    "- or"
   ]
  },
  {
   "cell_type": "code",
   "execution_count": 1,
   "id": "21d5123d",
   "metadata": {},
   "outputs": [
    {
     "name": "stdout",
     "output_type": "stream",
     "text": [
      "lets concentrate\n"
     ]
    }
   ],
   "source": [
    "class_started=True\n",
    "if class_started:\n",
    "    print(\"lets concentrate\")\n",
    "else:\n",
    "    print(\"please revise\")"
   ]
  },
  {
   "cell_type": "code",
   "execution_count": 3,
   "id": "6a21cdf3",
   "metadata": {},
   "outputs": [
    {
     "name": "stdout",
     "output_type": "stream",
     "text": [
      "please revise\n"
     ]
    }
   ],
   "source": [
    "class_started=False\n",
    "if not class_started:\n",
    "    print(\"please revise\")\n",
    "else:\n",
    "    print(\"lets concentrate\")"
   ]
  },
  {
   "cell_type": "markdown",
   "id": "de2ca767",
   "metadata": {},
   "source": [
    "# Equality operator\n"
   ]
  },
  {
   "cell_type": "markdown",
   "id": "de29db37",
   "metadata": {},
   "source": [
    "- is\n",
    "- is not\n",
    "- ==\n",
    "- !=\n",
    "- "
   ]
  },
  {
   "cell_type": "markdown",
   "id": "80327afb",
   "metadata": {},
   "source": [
    "# comparison operator\n"
   ]
  },
  {
   "cell_type": "markdown",
   "id": "e2ce5974",
   "metadata": {},
   "source": [
    "- <\n",
    "- '>'\n",
    "- <=\n",
    "- '>='"
   ]
  },
  {
   "cell_type": "code",
   "execution_count": null,
   "id": "89777f13",
   "metadata": {},
   "outputs": [],
   "source": []
  }
 ],
 "metadata": {
  "kernelspec": {
   "display_name": "Python 3 (ipykernel)",
   "language": "python",
   "name": "python3"
  },
  "language_info": {
   "codemirror_mode": {
    "name": "ipython",
    "version": 3
   },
   "file_extension": ".py",
   "mimetype": "text/x-python",
   "name": "python",
   "nbconvert_exporter": "python",
   "pygments_lexer": "ipython3",
   "version": "3.10.4"
  }
 },
 "nbformat": 4,
 "nbformat_minor": 5
}
