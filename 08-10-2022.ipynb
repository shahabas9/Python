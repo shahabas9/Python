{
 "cells": [
  {
   "cell_type": "markdown",
   "id": "54144c6e",
   "metadata": {},
   "source": [
    "# string methods"
   ]
  },
  {
   "cell_type": "code",
   "execution_count": 1,
   "id": "60ce7067",
   "metadata": {},
   "outputs": [],
   "source": [
    "s=\"shahabas\""
   ]
  },
  {
   "cell_type": "code",
   "execution_count": 2,
   "id": "6ebb07b5",
   "metadata": {},
   "outputs": [
    {
     "data": {
      "text/plain": [
       "'s'"
      ]
     },
     "execution_count": 2,
     "metadata": {},
     "output_type": "execute_result"
    }
   ],
   "source": [
    "s[0]"
   ]
  },
  {
   "cell_type": "code",
   "execution_count": 3,
   "id": "0b4a8968",
   "metadata": {},
   "outputs": [
    {
     "data": {
      "text/plain": [
       "'s'"
      ]
     },
     "execution_count": 3,
     "metadata": {},
     "output_type": "execute_result"
    }
   ],
   "source": [
    "s[-1]"
   ]
  },
  {
   "cell_type": "code",
   "execution_count": 4,
   "id": "f53ef0c2",
   "metadata": {},
   "outputs": [
    {
     "data": {
      "text/plain": [
       "'sha'"
      ]
     },
     "execution_count": 4,
     "metadata": {},
     "output_type": "execute_result"
    }
   ],
   "source": [
    "s[0:3]"
   ]
  },
  {
   "cell_type": "code",
   "execution_count": 5,
   "id": "e34be81c",
   "metadata": {},
   "outputs": [
    {
     "data": {
      "text/plain": [
       "'ShahabaS'"
      ]
     },
     "execution_count": 5,
     "metadata": {},
     "output_type": "execute_result"
    }
   ],
   "source": [
    "s.replace('s',\"S\")"
   ]
  },
  {
   "cell_type": "code",
   "execution_count": 6,
   "id": "5e44b0e1",
   "metadata": {},
   "outputs": [
    {
     "data": {
      "text/plain": [
       "8"
      ]
     },
     "execution_count": 6,
     "metadata": {},
     "output_type": "execute_result"
    }
   ],
   "source": [
    "len(s)"
   ]
  },
  {
   "cell_type": "markdown",
   "id": "69dbc8bc",
   "metadata": {},
   "source": [
    "- count\n",
    "- split\n",
    "- lower\n",
    "- upper\n",
    "- title\n",
    "- capitalize\n",
    "- swapcase\n",
    "- join\n",
    "- strip\n",
    "- center\n",
    "- isspace\n",
    "- isdigit\n",
    "- startswith\n",
    "- endswith\n",
    "- isalnum\n"
   ]
  },
  {
   "cell_type": "code",
   "execution_count": null,
   "id": "bb737a81",
   "metadata": {},
   "outputs": [],
   "source": []
  }
 ],
 "metadata": {
  "kernelspec": {
   "display_name": "Python 3 (ipykernel)",
   "language": "python",
   "name": "python3"
  },
  "language_info": {
   "codemirror_mode": {
    "name": "ipython",
    "version": 3
   },
   "file_extension": ".py",
   "mimetype": "text/x-python",
   "name": "python",
   "nbconvert_exporter": "python",
   "pygments_lexer": "ipython3",
   "version": "3.10.4"
  }
 },
 "nbformat": 4,
 "nbformat_minor": 5
}
