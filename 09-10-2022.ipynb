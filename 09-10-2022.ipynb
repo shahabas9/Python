{
 "cells": [
  {
   "cell_type": "markdown",
   "id": "fed05cfd",
   "metadata": {},
   "source": [
    "- control flow statement\n",
    "- loop"
   ]
  },
  {
   "cell_type": "code",
   "execution_count": 1,
   "id": "1ed483b6",
   "metadata": {},
   "outputs": [
    {
     "name": "stdout",
     "output_type": "stream",
     "text": [
      "yes\n"
     ]
    }
   ],
   "source": [
    "print(\"yes\" if 100>90 else \"no\")"
   ]
  },
  {
   "cell_type": "code",
   "execution_count": null,
   "id": "f5da7e79",
   "metadata": {},
   "outputs": [],
   "source": [
    "while condition:\n",
    "    operation or statement    its works only on condition."
   ]
  },
  {
   "cell_type": "code",
   "execution_count": 2,
   "id": "0cd88735",
   "metadata": {},
   "outputs": [
    {
     "name": "stdout",
     "output_type": "stream",
     "text": [
      "current sum 10\n",
      "current sum 20\n",
      "current sum 30\n",
      "current sum 40\n",
      "current sum 50\n"
     ]
    }
   ],
   "source": [
    "notes=5\n",
    "i=1\n",
    "\n",
    "while i<=notes:\n",
    "    print(f\"current sum {i*10}\")\n",
    "    i=i+1"
   ]
  },
  {
   "cell_type": "code",
   "execution_count": null,
   "id": "64fa44c1",
   "metadata": {},
   "outputs": [],
   "source": [
    "for loop iterates each elements in the list"
   ]
  },
  {
   "cell_type": "code",
   "execution_count": 28,
   "id": "831fa6e5",
   "metadata": {},
   "outputs": [
    {
     "name": "stdout",
     "output_type": "stream",
     "text": [
      "1710\n"
     ]
    }
   ],
   "source": [
    "cost=[10,200,300,500,700,800]\n",
    "total=0\n",
    "budget=2000\n",
    "for items in cost:\n",
    "    \n",
    "    total=total+items\n",
    "    #print(total)\n",
    "    if total > budget:\n",
    "        total=total-items\n",
    "    \n",
    "print(total)  "
   ]
  },
  {
   "cell_type": "code",
   "execution_count": 9,
   "id": "0e7e9908",
   "metadata": {},
   "outputs": [
    {
     "data": {
      "text/plain": [
       "0"
      ]
     },
     "execution_count": 9,
     "metadata": {},
     "output_type": "execute_result"
    }
   ],
   "source": [
    "total"
   ]
  },
  {
   "cell_type": "code",
   "execution_count": null,
   "id": "424ab15f",
   "metadata": {},
   "outputs": [],
   "source": [
    "- for continue the condition will not execute and start the loop again.\n",
    "- for break it will "
   ]
  }
 ],
 "metadata": {
  "kernelspec": {
   "display_name": "Python 3 (ipykernel)",
   "language": "python",
   "name": "python3"
  },
  "language_info": {
   "codemirror_mode": {
    "name": "ipython",
    "version": 3
   },
   "file_extension": ".py",
   "mimetype": "text/x-python",
   "name": "python",
   "nbconvert_exporter": "python",
   "pygments_lexer": "ipython3",
   "version": "3.10.4"
  }
 },
 "nbformat": 4,
 "nbformat_minor": 5
}
