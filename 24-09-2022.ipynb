{
 "cells": [
  {
   "cell_type": "markdown",
   "id": "3f37b794",
   "metadata": {},
   "source": [
    "# Data types and variables"
   ]
  },
  {
   "cell_type": "code",
   "execution_count": null,
   "id": "e38eb596",
   "metadata": {},
   "outputs": [],
   "source": [
    "# int\n",
    "# float\n",
    "# string\n",
    "# Complex\n",
    "#"
   ]
  },
  {
   "cell_type": "code",
   "execution_count": 2,
   "id": "e8fe09d9",
   "metadata": {},
   "outputs": [
    {
     "name": "stdout",
     "output_type": "stream",
     "text": [
      "shahabas \n",
      " mohamed\n"
     ]
    }
   ],
   "source": [
    "print(\"shahabas \\n mohamed\")"
   ]
  },
  {
   "cell_type": "code",
   "execution_count": 4,
   "id": "ffa24dfc",
   "metadata": {},
   "outputs": [
    {
     "name": "stdout",
     "output_type": "stream",
     "text": [
      " my name is \"shahabas\"! \n"
     ]
    }
   ],
   "source": [
    "print(\"\"\" my name is \"shahabas\"! \"\"\")"
   ]
  },
  {
   "cell_type": "code",
   "execution_count": 5,
   "id": "20e17748",
   "metadata": {},
   "outputs": [],
   "source": [
    "# % -> remainder\n",
    "# ** ->power\n"
   ]
  },
  {
   "cell_type": "code",
   "execution_count": 7,
   "id": "331680b7",
   "metadata": {},
   "outputs": [],
   "source": [
    "import math\n",
    "a=math.pi"
   ]
  },
  {
   "cell_type": "code",
   "execution_count": 8,
   "id": "84115327",
   "metadata": {},
   "outputs": [
    {
     "data": {
      "text/plain": [
       "float"
      ]
     },
     "execution_count": 8,
     "metadata": {},
     "output_type": "execute_result"
    }
   ],
   "source": [
    "type(a)"
   ]
  },
  {
   "cell_type": "code",
   "execution_count": 9,
   "id": "3a8cf9df",
   "metadata": {},
   "outputs": [],
   "source": [
    "a=2+3j"
   ]
  },
  {
   "cell_type": "code",
   "execution_count": 10,
   "id": "9209850b",
   "metadata": {},
   "outputs": [
    {
     "data": {
      "text/plain": [
       "2.0"
      ]
     },
     "execution_count": 10,
     "metadata": {},
     "output_type": "execute_result"
    }
   ],
   "source": [
    "a.real"
   ]
  },
  {
   "cell_type": "code",
   "execution_count": 12,
   "id": "399586c0",
   "metadata": {},
   "outputs": [
    {
     "data": {
      "text/plain": [
       "3.0"
      ]
     },
     "execution_count": 12,
     "metadata": {},
     "output_type": "execute_result"
    }
   ],
   "source": [
    "a.imag"
   ]
  },
  {
   "cell_type": "code",
   "execution_count": 13,
   "id": "79f75790",
   "metadata": {},
   "outputs": [
    {
     "ename": "SyntaxError",
     "evalue": "invalid syntax (2750962421.py, line 1)",
     "output_type": "error",
     "traceback": [
      "\u001b[0;36m  Cell \u001b[0;32mIn [13], line 1\u001b[0;36m\u001b[0m\n\u001b[0;31m    Dynamic typing\u001b[0m\n\u001b[0m            ^\u001b[0m\n\u001b[0;31mSyntaxError\u001b[0m\u001b[0;31m:\u001b[0m invalid syntax\n"
     ]
    }
   ],
   "source": [
    "Dynamic typing\n",
    " line by line code"
   ]
  },
  {
   "cell_type": "code",
   "execution_count": 14,
   "id": "fc4964fd",
   "metadata": {},
   "outputs": [
    {
     "ename": "SyntaxError",
     "evalue": "invalid syntax (235559533.py, line 1)",
     "output_type": "error",
     "traceback": [
      "\u001b[0;36m  Cell \u001b[0;32mIn [14], line 1\u001b[0;36m\u001b[0m\n\u001b[0;31m    Srtong typing\u001b[0m\n\u001b[0m           ^\u001b[0m\n\u001b[0;31mSyntaxError\u001b[0m\u001b[0;31m:\u001b[0m invalid syntax\n"
     ]
    }
   ],
   "source": [
    "Srtong typing\n",
    "all data type should be in same data type\n"
   ]
  },
  {
   "cell_type": "code",
   "execution_count": 15,
   "id": "fd11acc7",
   "metadata": {},
   "outputs": [
    {
     "name": "stdout",
     "output_type": "stream",
     "text": [
      "welcome to the python class\n"
     ]
    }
   ],
   "source": [
    "lang=\"python\"\n",
    "print(f\"welcome to the {lang} class\")"
   ]
  },
  {
   "cell_type": "code",
   "execution_count": 19,
   "id": "92d2cd86",
   "metadata": {},
   "outputs": [],
   "source": [
    "# f indicate placeholder , formatted string method"
   ]
  },
  {
   "cell_type": "code",
   "execution_count": 17,
   "id": "817b9165",
   "metadata": {},
   "outputs": [
    {
     "name": "stdout",
     "output_type": "stream",
     "text": [
      "welcome to the 2 class\n"
     ]
    }
   ],
   "source": [
    "lang= 2\n",
    "print(f\"welcome to the {lang} class\")"
   ]
  },
  {
   "cell_type": "code",
   "execution_count": 20,
   "id": "ea62ea5c",
   "metadata": {},
   "outputs": [
    {
     "ename": "SyntaxError",
     "evalue": "invalid syntax (1817404043.py, line 3)",
     "output_type": "error",
     "traceback": [
      "\u001b[0;36m  Cell \u001b[0;32mIn [20], line 3\u001b[0;36m\u001b[0m\n\u001b[0;31m    1. True\u001b[0m\n\u001b[0m       ^\u001b[0m\n\u001b[0;31mSyntaxError\u001b[0m\u001b[0;31m:\u001b[0m invalid syntax\n"
     ]
    }
   ],
   "source": [
    "# Boolean Data type\n",
    "\n",
    "1. True\n",
    "2. False"
   ]
  },
  {
   "cell_type": "code",
   "execution_count": null,
   "id": "6abb95fa",
   "metadata": {},
   "outputs": [],
   "source": []
  }
 ],
 "metadata": {
  "kernelspec": {
   "display_name": "Python 3 (ipykernel)",
   "language": "python",
   "name": "python3"
  },
  "language_info": {
   "codemirror_mode": {
    "name": "ipython",
    "version": 3
   },
   "file_extension": ".py",
   "mimetype": "text/x-python",
   "name": "python",
   "nbconvert_exporter": "python",
   "pygments_lexer": "ipython3",
   "version": "3.10.4"
  }
 },
 "nbformat": 4,
 "nbformat_minor": 5
}
