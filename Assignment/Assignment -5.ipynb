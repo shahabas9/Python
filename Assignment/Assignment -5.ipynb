{
 "cells": [
  {
   "cell_type": "markdown",
   "id": "5ac56fcc",
   "metadata": {},
   "source": [
    "1. On amazon website we have the following available items -\n",
    "\n",
    "\n",
    "\n",
    "amazon_website = [(\"watch\", 5000), (\"phone\", 10000), (\"laptop\", 50000), (\"shirt\", 1000)]\n",
    "\n",
    "\n",
    "Take the user input N no. of times and find out the total cost to be paid?\n",
    "\n",
    "OR\n",
    "\n",
    "You can ask the user quntity or the count of item?\n",
    "\n",
    "if the item is not present in the amazon website then print that item as out of stock and do add it total"
   ]
  },
  {
   "cell_type": "code",
   "execution_count": 1,
   "id": "1ca2cec3",
   "metadata": {},
   "outputs": [
    {
     "name": "stdout",
     "output_type": "stream",
     "text": [
      "enter the item :shirt\n",
      "['shirt']\n",
      "enter the item :watch\n",
      "['shirt', 'watch']\n",
      "enter the item :shoe\n",
      "out of stock\n",
      "enter the item :laptop\n",
      "['shirt', 'watch', 'laptop']\n",
      "enter the number of shirts required:4\n",
      "enter the number of watches required:3\n",
      "enter the number of laptop required:2\n",
      "the total amount is 119000\n"
     ]
    }
   ],
   "source": [
    "amazon_website = [(\"watch\", 5000), (\"phone\", 10000), (\"laptop\", 50000), (\"shirt\", 1000)]\n",
    "\n",
    "\n",
    "\n",
    "\n",
    "list1=list()\n",
    "mycart=list()\n",
    "\n",
    "\n",
    "\n",
    "for x in amazon_website:\n",
    "    list1.append(x[0])\n",
    "    \n",
    "\n",
    "# amazon website have only 4 products, therefore range should be in 1 to 4.   \n",
    "    \n",
    "for i in range(4):\n",
    "    items=input(\"enter the item :\")\n",
    "    if items in list1:\n",
    "        mycart.append(items)\n",
    "        print(mycart)\n",
    "    else:\n",
    "        print(\"out of stock\")\n",
    "\n",
    "\n",
    "\n",
    "total_cart=list()\n",
    "\n",
    "total_sum=0\n",
    "\n",
    "\n",
    "for item in mycart:\n",
    "    for x in amazon_website:\n",
    "        if item in x[0]:\n",
    "            \n",
    "            if item==\"watch\":\n",
    "                num_required=int(input(\"enter the number of watches required:\"))\n",
    "                total_cart.append(num_required*x[1])\n",
    "        \n",
    "            elif item==\"phone\":\n",
    "                num_required=int(input(\"enter the number of phone required:\"))\n",
    "                total_cart.append(num_required*x[1])   \n",
    "\n",
    "            elif item==\"laptop\":\n",
    "                num_required=int(input(\"enter the number of laptop required:\"))\n",
    "                total_cart.append(num_required*x[1])\n",
    "\n",
    "            elif item=='shirt':\n",
    "                num_required=int(input(\"enter the number of shirts required:\"))\n",
    "                total_cart.append(num_required*x[1])\n",
    "            \n",
    "\n",
    "            \n",
    "for i in total_cart:\n",
    "    total_sum=total_sum+i\n",
    "    \n",
    "print(f\"the total amount is {total_sum}\")"
   ]
  },
  {
   "cell_type": "markdown",
   "id": "cf535233",
   "metadata": {},
   "source": [
    "2. What will be the output of the following code snippet?"
   ]
  },
  {
   "cell_type": "code",
   "execution_count": 2,
   "id": "4f1ef783",
   "metadata": {},
   "outputs": [
    {
     "name": "stdout",
     "output_type": "stream",
     "text": [
      "2 3 4 5 6 6 "
     ]
    }
   ],
   "source": [
    "arr = [1, 2, 3, 4, 5, 6]\n",
    "for i in range(1, 6):\n",
    "    \n",
    "    arr[i - 1] = arr[i]\n",
    "    \n",
    "for i in range(0, 6): \n",
    "     print(arr[i], end = \" \")\n",
    "    "
   ]
  },
  {
   "cell_type": "markdown",
   "id": "85658ea3",
   "metadata": {},
   "source": [
    "3. Write a Python program to find the repeated items of a tuple."
   ]
  },
  {
   "cell_type": "code",
   "execution_count": 3,
   "id": "b6460d79",
   "metadata": {},
   "outputs": [
    {
     "name": "stdout",
     "output_type": "stream",
     "text": [
      "apple is repeated 3 times\n",
      "banana is repeated 2 times\n",
      "apple is repeated 3 times\n",
      "apple is repeated 3 times\n",
      "banana is repeated 2 times\n"
     ]
    }
   ],
   "source": [
    "my_list=(\"apple\",\"banana\",\"mango\",\"apple\",\"pineapple\",\"apple\",\"banana\")\n",
    "\n",
    "for i in my_list:\n",
    "    if my_list.count(i)>1:\n",
    "        print(f\"{i} is repeated {my_list.count(i)} times\")\n",
    "    "
   ]
  },
  {
   "cell_type": "markdown",
   "id": "1cde71bb",
   "metadata": {},
   "source": [
    "4. Replace last value of tuples in a list with 500. Try using list comprehension\n",
    "\n",
    "list_1=[(10, 20, 40), (40, 50, 60), (70, 80, 90)]\n"
   ]
  },
  {
   "cell_type": "code",
   "execution_count": 4,
   "id": "0b8a6a62",
   "metadata": {},
   "outputs": [
    {
     "name": "stdout",
     "output_type": "stream",
     "text": [
      "[(10, 20, 500), (40, 50, 500), (70, 80, 500)]\n"
     ]
    }
   ],
   "source": [
    "list_1=[(10, 20, 40), (40, 50, 60), (70, 80, 90)]\n",
    "list_2=list()\n",
    "for i in list_1:\n",
    "    i=list(i)\n",
    "    i[-1]=500\n",
    "    \n",
    "    i=tuple(i)\n",
    "    list_2.append(i)\n",
    "    \n",
    "print(list_2)"
   ]
  },
  {
   "cell_type": "code",
   "execution_count": 5,
   "id": "756e4088",
   "metadata": {},
   "outputs": [
    {
     "ename": "SyntaxError",
     "evalue": "invalid syntax (2080957686.py, line 1)",
     "output_type": "error",
     "traceback": [
      "\u001b[0;36m  Cell \u001b[0;32mIn [5], line 1\u001b[0;36m\u001b[0m\n\u001b[0;31m    expression for item in list\u001b[0m\n\u001b[0m               ^\u001b[0m\n\u001b[0;31mSyntaxError\u001b[0m\u001b[0;31m:\u001b[0m invalid syntax\n"
     ]
    }
   ],
   "source": [
    "#[expression for item in list]"
   ]
  },
  {
   "cell_type": "code",
   "execution_count": 6,
   "id": "b423b8ed",
   "metadata": {},
   "outputs": [
    {
     "name": "stdout",
     "output_type": "stream",
     "text": [
      "[(10, 20, 500), (40, 50, 500), (70, 80, 500)]\n"
     ]
    }
   ],
   "source": [
    "list_2=[i[:-1]+(500,) for i in list_1 ] #doing concatenation\n",
    "\n",
    "print(list_2)"
   ]
  }
 ],
 "metadata": {
  "kernelspec": {
   "display_name": "Python 3 (ipykernel)",
   "language": "python",
   "name": "python3"
  },
  "language_info": {
   "codemirror_mode": {
    "name": "ipython",
    "version": 3
   },
   "file_extension": ".py",
   "mimetype": "text/x-python",
   "name": "python",
   "nbconvert_exporter": "python",
   "pygments_lexer": "ipython3",
   "version": "3.10.4"
  }
 },
 "nbformat": 4,
 "nbformat_minor": 5
}
