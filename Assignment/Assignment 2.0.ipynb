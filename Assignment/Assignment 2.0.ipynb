{
 "cells": [
  {
   "cell_type": "markdown",
   "id": "c836e86c",
   "metadata": {},
   "source": [
    "1. What is indentation error? Why indentation is important? Give one simple example?"
   ]
  },
  {
   "cell_type": "code",
   "execution_count": 1,
   "id": "9b89c352",
   "metadata": {},
   "outputs": [],
   "source": [
    "# indentation error is , if the codes are not in proper alignment.Indentation is indicates the block of code."
   ]
  },
  {
   "cell_type": "code",
   "execution_count": 2,
   "id": "02e0f379",
   "metadata": {},
   "outputs": [
    {
     "ename": "IndentationError",
     "evalue": "unexpected indent (347286860.py, line 2)",
     "output_type": "error",
     "traceback": [
      "\u001b[0;36m  Cell \u001b[0;32mIn [2], line 2\u001b[0;36m\u001b[0m\n\u001b[0;31m    print(name)\u001b[0m\n\u001b[0m    ^\u001b[0m\n\u001b[0;31mIndentationError\u001b[0m\u001b[0;31m:\u001b[0m unexpected indent\n"
     ]
    }
   ],
   "source": [
    "name ='shahabas'\n",
    "    print(name)"
   ]
  },
  {
   "cell_type": "markdown",
   "id": "38e3b27a",
   "metadata": {},
   "source": [
    "2. Correct the following code and write the comment where you made the correction?"
   ]
  },
  {
   "cell_type": "code",
   "execution_count": 6,
   "id": "cb3fe5f0",
   "metadata": {},
   "outputs": [
    {
     "name": "stdout",
     "output_type": "stream",
     "text": [
      "Hey friend, is class started?: [0-False/1-True]0\n",
      "Since class is not started...\n",
      "let's revise\n"
     ]
    }
   ],
   "source": [
    "class_started = int(input(\"Hey friend, is class started?: [0-False/1-True]\"))\n",
    "\n",
    "# changed bool datatype into int datatype\n",
    "\n",
    "if class_started:\n",
    "   print(\"Since class started...\")\n",
    "   print(\"Lets concentrate\")\n",
    "else:\n",
    "   print(\"Since class is not started...\")\n",
    "   print(\"let's revise\")    "
   ]
  },
  {
   "cell_type": "markdown",
   "id": "def23ce4",
   "metadata": {},
   "source": [
    "3. Use if else condition to verify that dataype of input() method in python is always string."
   ]
  },
  {
   "cell_type": "code",
   "execution_count": 12,
   "id": "7cfa8a31",
   "metadata": {},
   "outputs": [
    {
     "name": "stdout",
     "output_type": "stream",
     "text": [
      "the datatype is not string\n"
     ]
    }
   ],
   "source": [
    "a=1\n",
    "\n",
    "if type(a)==str:\n",
    "    print(\"the datatype of input is string\")\n",
    "else:\n",
    "    print(\"the datatype is not string\")\n"
   ]
  },
  {
   "cell_type": "markdown",
   "id": "ca2de194",
   "metadata": {},
   "source": [
    "4. Take 3 variables and assign integer values to them. Find the largest variable, by only using the if and else conditions."
   ]
  },
  {
   "cell_type": "code",
   "execution_count": 36,
   "id": "a3ffc36a",
   "metadata": {},
   "outputs": [
    {
     "name": "stdout",
     "output_type": "stream",
     "text": [
      "go for another number\n",
      "go for another number\n",
      "20\n"
     ]
    }
   ],
   "source": [
    "x,y,z=10,15,20\n",
    "\n",
    "if x>y and x>z:\n",
    "    print(x)\n",
    "else:\n",
    "    print(\"go for another number\")\n",
    "if y>x and y>z:\n",
    "    print(y)\n",
    "else:\n",
    "    print(\"go for another number\")\n",
    "if z>y and z>x:\n",
    "    print(z)\n",
    "else:\n",
    "    print(\"go for another number\")\n",
    "    "
   ]
  },
  {
   "cell_type": "markdown",
   "id": "4e2003a3",
   "metadata": {},
   "source": [
    " 5. What would be the solution?\n",
    "\n",
    "True\n",
    "\n",
    "False"
   ]
  },
  {
   "cell_type": "code",
   "execution_count": 42,
   "id": "d2c8ced4",
   "metadata": {},
   "outputs": [
    {
     "name": "stdout",
     "output_type": "stream",
     "text": [
      "False\n"
     ]
    }
   ],
   "source": [
    "a = 6\n",
    "b = 10\n",
    "print( not ( not a == 10 or not b == 10) )\n"
   ]
  },
  {
   "cell_type": "markdown",
   "id": "1630337b",
   "metadata": {},
   "source": [
    "6. Find the answer as well as find out the reason behind the result? -\n",
    "\n",
    "- case 1:\n",
    "  A = 5.0\n",
    "  B = 10/2\n",
    "  print(A is B)\n",
    "  \n",
    "  \n",
    "  \n",
    "  \n",
    "  \n",
    "- case 2:\n",
    "  A = 5.0\n",
    "  B = int(10/2)\n",
    "  print(A is B)\n",
    "  \n",
    "  \n",
    "  \n",
    "  \n",
    "- case 3:\n",
    "  A = 5.0\n",
    "  B = float(10/2)\n",
    "  print(A is B)"
   ]
  },
  {
   "cell_type": "code",
   "execution_count": 44,
   "id": "4defc010",
   "metadata": {},
   "outputs": [
    {
     "name": "stdout",
     "output_type": "stream",
     "text": [
      "False\n"
     ]
    }
   ],
   "source": [
    "A = 5.0 \n",
    "B = 10/2\n",
    "print(A is B)\n",
    "\n",
    "\n",
    "## The only two value are consider after the point & remaining are value get neglected in case of float datatype."
   ]
  },
  {
   "cell_type": "code",
   "execution_count": 46,
   "id": "97d67aa0",
   "metadata": {},
   "outputs": [
    {
     "data": {
      "text/plain": [
       "140536253531120"
      ]
     },
     "execution_count": 46,
     "metadata": {},
     "output_type": "execute_result"
    }
   ],
   "source": [
    "id(A)\n"
   ]
  },
  {
   "cell_type": "code",
   "execution_count": 49,
   "id": "69326c4f",
   "metadata": {},
   "outputs": [
    {
     "data": {
      "text/plain": [
       "140536253530768"
      ]
     },
     "execution_count": 49,
     "metadata": {},
     "output_type": "execute_result"
    }
   ],
   "source": [
    "id(B)"
   ]
  },
  {
   "cell_type": "code",
   "execution_count": 51,
   "id": "ac78ed1d",
   "metadata": {},
   "outputs": [
    {
     "name": "stdout",
     "output_type": "stream",
     "text": [
      "False\n"
     ]
    }
   ],
   "source": [
    "A = 5.0\n",
    "B = int(10/2)\n",
    "print(A is B)\n",
    "\n",
    "## here datattype of A and B are different thatswhy memory locations are different."
   ]
  },
  {
   "cell_type": "code",
   "execution_count": 52,
   "id": "90b9f606",
   "metadata": {},
   "outputs": [
    {
     "name": "stdout",
     "output_type": "stream",
     "text": [
      "False\n"
     ]
    }
   ],
   "source": [
    "A = 5.0\n",
    "B = float(10/2)\n",
    "print(A is B)"
   ]
  },
  {
   "cell_type": "markdown",
   "id": "35fddcce",
   "metadata": {},
   "source": [
    "7. Write a program that asks the user to enter a number. You should print out a message to the user, either “That number is divisible by either 3 or 5”, or “That number is not divisible by either 3 or 5”. Be sure to consider the data type of the input you are taking in from the user. Use a single if/else block to solve this problem."
   ]
  },
  {
   "cell_type": "code",
   "execution_count": 54,
   "id": "2aeaa5c3",
   "metadata": {},
   "outputs": [
    {
     "name": "stdout",
     "output_type": "stream",
     "text": [
      "Enter the number: 202\n",
      "That number is not divisible by either 3 or 5\n"
     ]
    }
   ],
   "source": [
    "num=int(input(\"Enter the number: \"))\n",
    "\n",
    "if num %3==0 or num %5==0:\n",
    "    print('That number is divisible by either 3 or 5')\n",
    "else:\n",
    "    print(\"That number is not divisible by either 3 or 5\")"
   ]
  },
  {
   "cell_type": "markdown",
   "id": "9a4da914",
   "metadata": {},
   "source": [
    "8. Take user input for length and width. Then calculate the area of rectangle. Also print as per length and width whether its a square of rectangle."
   ]
  },
  {
   "cell_type": "code",
   "execution_count": 58,
   "id": "db77c1a4",
   "metadata": {},
   "outputs": [
    {
     "name": "stdout",
     "output_type": "stream",
     "text": [
      "Enter the number: 10\n",
      "Enter the number: 20\n",
      "area of the box is 200,but its a rectangle\n"
     ]
    }
   ],
   "source": [
    "length=int(input(\"Enter the number: \"))\n",
    "width=int(input(\"Enter the number: \"))\n",
    "area=length*width\n",
    "if length==width:\n",
    "    print(f\"area of the box is {area},but its a square\")\n",
    "else:\n",
    "    print(f\"area of the box is {area},but its a rectangle\")"
   ]
  },
  {
   "cell_type": "markdown",
   "id": "60278bb5",
   "metadata": {},
   "source": [
    "9. Take two variable radius_1 and radius_2 and calculate the area of circle_1 and circle_2. Also print which circle has large area. If area is equal then print area is equal."
   ]
  },
  {
   "cell_type": "code",
   "execution_count": 78,
   "id": "0a6e2360",
   "metadata": {},
   "outputs": [
    {
     "name": "stdout",
     "output_type": "stream",
     "text": [
      "circle_1 has larger area\n",
      "Area of 2 circles are not  equal\n"
     ]
    }
   ],
   "source": [
    "pi=22/7\n",
    "radius_1=20\n",
    "radius_2=15\n",
    "\n",
    "\n",
    "circle_1=pi*radius_1**2\n",
    "circle_2=pi*radius_2**2\n",
    "\n",
    "if circle_1>circle_2:\n",
    "    print(\"circle_1 has larger area\")\n",
    "    \n",
    "else:\n",
    "    print(\"circle_2 has larger area\")\n",
    "    \n",
    "if circle_1==circle_2:\n",
    "        print(\"Area of 2 circles are equal\")\n",
    "else:\n",
    "    print(\"Area of 2 circles are not  equal\")\n"
   ]
  },
  {
   "cell_type": "markdown",
   "id": "78ff1423",
   "metadata": {},
   "source": [
    "10. Check whether a year is leap year or not. Use nested if...else to solve this problem. A leap year is exactly divisible by 4 except for century years (years ending with 00). The century year is a leap year only if it is perfectly divisible by 400."
   ]
  },
  {
   "cell_type": "code",
   "execution_count": 90,
   "id": "966fd0e7",
   "metadata": {},
   "outputs": [
    {
     "name": "stdout",
     "output_type": "stream",
     "text": [
      "Enter the year: 2000\n",
      "its a leap year\n"
     ]
    }
   ],
   "source": [
    "year=int(input(\"Enter the year: \"))\n",
    "\n",
    "if  year%400==0 or (year%4==0 and year%100!=0):\n",
    "    print(\"its a leap year\")\n",
    "else:\n",
    "    print(\"its not a leap year\")"
   ]
  }
 ],
 "metadata": {
  "kernelspec": {
   "display_name": "Python 3 (ipykernel)",
   "language": "python",
   "name": "python3"
  },
  "language_info": {
   "codemirror_mode": {
    "name": "ipython",
    "version": 3
   },
   "file_extension": ".py",
   "mimetype": "text/x-python",
   "name": "python",
   "nbconvert_exporter": "python",
   "pygments_lexer": "ipython3",
   "version": "3.10.4"
  }
 },
 "nbformat": 4,
 "nbformat_minor": 5
}
