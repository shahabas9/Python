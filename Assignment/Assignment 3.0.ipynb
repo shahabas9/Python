{
 "cells": [
  {
   "cell_type": "markdown",
   "id": "fb3918a1",
   "metadata": {},
   "source": [
    "1. Count the number of times iNeuron appears in the string."
   ]
  },
  {
   "cell_type": "code",
   "execution_count": 1,
   "id": "5b8a92b3",
   "metadata": {},
   "outputs": [],
   "source": [
    "text = \"Welcome to iNeuron, You are a part of FSDS Bootcamp 2 in iNeuron. I hope you are enjoying the course by iNeuron\""
   ]
  },
  {
   "cell_type": "code",
   "execution_count": 5,
   "id": "b976da8f",
   "metadata": {},
   "outputs": [
    {
     "name": "stdout",
     "output_type": "stream",
     "text": [
      "No of \"iNeuron\" in the text is 3 times\n"
     ]
    }
   ],
   "source": [
    "x=text.count(\"iNeuron\")\n",
    "print(f'No of \"iNeuron\" in the text is {x} times')"
   ]
  },
  {
   "cell_type": "markdown",
   "id": "5dc76b89",
   "metadata": {},
   "source": [
    "2. Check if position 5 to 11 ends with the phrase iNeuron. in the string"
   ]
  },
  {
   "cell_type": "code",
   "execution_count": 6,
   "id": "b8c84f4b",
   "metadata": {},
   "outputs": [],
   "source": [
    "txt = \"Hello, welcome to FSDS 2.0 at iNeuron.\""
   ]
  },
  {
   "cell_type": "code",
   "execution_count": 7,
   "id": "3cc3d602",
   "metadata": {},
   "outputs": [
    {
     "name": "stdout",
     "output_type": "stream",
     "text": [
      "the text is correct\n"
     ]
    }
   ],
   "source": [
    "if txt[5:11]==txt.endswith(\"iNeuron\"):\n",
    "    print(\"the text is not correct\")\n",
    "else:\n",
    "    print(\"the text is correct\")"
   ]
  },
  {
   "cell_type": "code",
   "execution_count": 8,
   "id": "9e164c53",
   "metadata": {},
   "outputs": [
    {
     "data": {
      "text/plain": [
       "', welc'"
      ]
     },
     "execution_count": 8,
     "metadata": {},
     "output_type": "execute_result"
    }
   ],
   "source": [
    "txt[5:11]"
   ]
  },
  {
   "cell_type": "code",
   "execution_count": 9,
   "id": "b37a9f65",
   "metadata": {},
   "outputs": [
    {
     "data": {
      "text/plain": [
       "False"
      ]
     },
     "execution_count": 9,
     "metadata": {},
     "output_type": "execute_result"
    }
   ],
   "source": [
    "txt.endswith(\"iNeuron\")"
   ]
  },
  {
   "cell_type": "markdown",
   "id": "598e3ffb",
   "metadata": {},
   "source": [
    "3. Write a program that takes your full name as input and displays the abbreviations of the first and middle names except the last name which is displayed as it is. For example, if your name is Sunny Bhaveen Chandra, then the output should be S.B.Chandra."
   ]
  },
  {
   "cell_type": "code",
   "execution_count": 14,
   "id": "2bab5c48",
   "metadata": {},
   "outputs": [
    {
     "name": "stdout",
     "output_type": "stream",
     "text": [
      "Enter the full name:Muthanikat Mohamed Shahabas\n"
     ]
    },
    {
     "data": {
      "text/plain": [
       "'M.M.Shahabas'"
      ]
     },
     "execution_count": 14,
     "metadata": {},
     "output_type": "execute_result"
    }
   ],
   "source": [
    "name=input(\"Enter the full name:\")\n",
    "\n",
    "x,y,z=name.split(\" \")\n",
    "\n",
    "\n",
    "\n",
    "x[0]+'.'+y[0]+\".\"+z"
   ]
  },
  {
   "cell_type": "markdown",
   "id": "57c6ce69",
   "metadata": {},
   "source": [
    "4. join all items in a list into a string, using a hash(#) character as separator:"
   ]
  },
  {
   "cell_type": "code",
   "execution_count": 15,
   "id": "f150b960",
   "metadata": {},
   "outputs": [
    {
     "name": "stdout",
     "output_type": "stream",
     "text": [
      "My#name#is#Rishav#Dash\n"
     ]
    }
   ],
   "source": [
    "LIST = [\"My\", \"name\", \"is\", \"Rishav\", \"Dash\"]\n",
    "\n",
    "\n",
    "a='#'.join(LIST)\n",
    "print(a)"
   ]
  },
  {
   "cell_type": "markdown",
   "id": "534bb5d0",
   "metadata": {},
   "source": [
    "5. Write example for the following string manipulation function,\n",
    "\n",
    "\n",
    "- isdecimal()\n",
    "- islower()\n",
    "- isupper()\n",
    "- isalpha()\n",
    "- isnumeric()\n",
    "\n",
    "\n"
   ]
  },
  {
   "cell_type": "code",
   "execution_count": 23,
   "id": "8c7cf9e0",
   "metadata": {},
   "outputs": [
    {
     "data": {
      "text/plain": [
       "True"
      ]
     },
     "execution_count": 23,
     "metadata": {},
     "output_type": "execute_result"
    }
   ],
   "source": [
    "z='13'\n",
    "z.isdecimal()"
   ]
  },
  {
   "cell_type": "code",
   "execution_count": 19,
   "id": "dac63683",
   "metadata": {},
   "outputs": [
    {
     "data": {
      "text/plain": [
       "True"
      ]
     },
     "execution_count": 19,
     "metadata": {},
     "output_type": "execute_result"
    }
   ],
   "source": [
    "y='shahabas'\n",
    "y.islower()"
   ]
  },
  {
   "cell_type": "code",
   "execution_count": 24,
   "id": "770d3407",
   "metadata": {},
   "outputs": [
    {
     "data": {
      "text/plain": [
       "True"
      ]
     },
     "execution_count": 24,
     "metadata": {},
     "output_type": "execute_result"
    }
   ],
   "source": [
    "a=\"SHAHABAS\"\n",
    "a.isupper()"
   ]
  },
  {
   "cell_type": "code",
   "execution_count": 25,
   "id": "71abe87f",
   "metadata": {},
   "outputs": [
    {
     "data": {
      "text/plain": [
       "True"
      ]
     },
     "execution_count": 25,
     "metadata": {},
     "output_type": "execute_result"
    }
   ],
   "source": [
    "a.isalpha()"
   ]
  },
  {
   "cell_type": "code",
   "execution_count": 26,
   "id": "e7ffbda8",
   "metadata": {},
   "outputs": [
    {
     "data": {
      "text/plain": [
       "True"
      ]
     },
     "execution_count": 26,
     "metadata": {},
     "output_type": "execute_result"
    }
   ],
   "source": [
    "z.isnumeric()"
   ]
  },
  {
   "cell_type": "markdown",
   "id": "1bd8286f",
   "metadata": {},
   "source": [
    "6. Indian PAN card format follows the following formats \n",
    "\n",
    "\n",
    "- AYEPC7894X\n",
    "- ABCDE9999Y Take user input for PAN_CARD and validate as per the above example."
   ]
  },
  {
   "cell_type": "code",
   "execution_count": 40,
   "id": "4718f438",
   "metadata": {},
   "outputs": [
    {
     "name": "stdout",
     "output_type": "stream",
     "text": [
      "its a valid pan card\n"
     ]
    }
   ],
   "source": [
    "c='AYEPC7894X'\n",
    "\n",
    "\n",
    "\n",
    "if c.isalnum() and len(c)==10:\n",
    "    if (c[0:5].isalpha() and c[0:5].isupper()) and c[5:9].isdigit() and (c[-1].isalpha() and c[-1].isupper()):\n",
    "        print(\"its a valid pan card\")\n",
    "    else:\n",
    "        print(\"its a scam\")\n",
    "else:\n",
    "    print(\"its a scammed copy\")\n",
    "        "
   ]
  },
  {
   "cell_type": "code",
   "execution_count": 1,
   "id": "fc5fe4fa",
   "metadata": {},
   "outputs": [],
   "source": [
    "l=list(range(8))"
   ]
  },
  {
   "cell_type": "code",
   "execution_count": 2,
   "id": "ba83901c",
   "metadata": {},
   "outputs": [
    {
     "data": {
      "text/plain": [
       "5"
      ]
     },
     "execution_count": 2,
     "metadata": {},
     "output_type": "execute_result"
    }
   ],
   "source": [
    "l.pop(5)"
   ]
  },
  {
   "cell_type": "code",
   "execution_count": null,
   "id": "5c093c91",
   "metadata": {},
   "outputs": [],
   "source": []
  }
 ],
 "metadata": {
  "kernelspec": {
   "display_name": "Python 3 (ipykernel)",
   "language": "python",
   "name": "python3"
  },
  "language_info": {
   "codemirror_mode": {
    "name": "ipython",
    "version": 3
   },
   "file_extension": ".py",
   "mimetype": "text/x-python",
   "name": "python",
   "nbconvert_exporter": "python",
   "pygments_lexer": "ipython3",
   "version": "3.10.4"
  }
 },
 "nbformat": 4,
 "nbformat_minor": 5
}
