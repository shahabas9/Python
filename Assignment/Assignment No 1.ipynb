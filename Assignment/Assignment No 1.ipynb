{
 "cells": [
  {
   "cell_type": "markdown",
   "id": "4f1a9ac4",
   "metadata": {},
   "source": [
    "# 2.Take input A and B and print their sum, mul, div, square of the nos."
   ]
  },
  {
   "cell_type": "code",
   "execution_count": 4,
   "id": "fc05638c",
   "metadata": {},
   "outputs": [
    {
     "name": "stdout",
     "output_type": "stream",
     "text": [
      "Enter the number :10\n",
      "Enter the number :5\n",
      "sum of two numbers is 15\n",
      "multiplication of two numbers is 50\n",
      "division of two numbers is 2.0\n",
      "square of first number is 100\n",
      "square of second number is 25\n"
     ]
    }
   ],
   "source": [
    "a= int(input(\"Enter the number :\"))\n",
    "b= int(input(\"Enter the number :\"))\n",
    "\n",
    "sum=a+b\n",
    "mul=a*b\n",
    "div=a/b\n",
    "a_square=a**2\n",
    "b_square=b**2\n",
    "\n",
    "\n",
    "print(f\"sum of two numbers is {sum}\")\n",
    "print(f\"multiplication of two numbers is {mul}\")\n",
    "print(f\"division of two numbers is {div}\")\n",
    "print(f\"square of first number is {a_square}\")\n",
    "print(f\"square of second number is {b_square}\")"
   ]
  },
  {
   "cell_type": "markdown",
   "id": "0880ec2d",
   "metadata": {},
   "source": [
    "# 4.Create email ids with the user inputs. in the following format - lastname.firstname@gmail.com"
   ]
  },
  {
   "cell_type": "code",
   "execution_count": 5,
   "id": "3223d16e",
   "metadata": {},
   "outputs": [
    {
     "name": "stdout",
     "output_type": "stream",
     "text": [
      "enter the name :mohamed\n",
      "enter the name :shahabas\n",
      "shahabas.mohamed@gmail.com\n"
     ]
    }
   ],
   "source": [
    "firstname=input(\"enter the name :\")\n",
    "lastname=input(\"enter the name :\")\n",
    "print(f\"{lastname}.{firstname}@gmail.com\")"
   ]
  },
  {
   "cell_type": "markdown",
   "id": "b1adb585",
   "metadata": {},
   "source": [
    "# 5.Try to print the following lines -\n",
    "Hi I'm Sunny\n",
    "My address is 22\\3\n",
    "I earn 20$ daily."
   ]
  },
  {
   "cell_type": "code",
   "execution_count": 8,
   "id": "a2f1e0ee",
   "metadata": {},
   "outputs": [
    {
     "name": "stdout",
     "output_type": "stream",
     "text": [
      "Hi I'm Sunny\n",
      "My address is 22/3\n",
      "I earn 20$ daily.\n"
     ]
    }
   ],
   "source": [
    "print(\"\"\"Hi I'm Sunny\n",
    "My address is 22/3\n",
    "I earn 20$ daily.\"\"\")"
   ]
  },
  {
   "cell_type": "markdown",
   "id": "adf488dd",
   "metadata": {},
   "source": [
    "# 7.Convert the following -\n",
    "\"22.4\" into integer\n",
    "\"22\" into complex no."
   ]
  },
  {
   "cell_type": "code",
   "execution_count": 12,
   "id": "19eed736",
   "metadata": {},
   "outputs": [
    {
     "name": "stdout",
     "output_type": "stream",
     "text": [
      "<class 'int'>\n",
      "<class 'complex'>\n"
     ]
    }
   ],
   "source": [
    "q=\"22.4\"\n",
    "s=float(q)\n",
    "a=int(s)\n",
    "print(type(a))\n",
    "c=complex(a)\n",
    "print(type(c))"
   ]
  },
  {
   "cell_type": "markdown",
   "id": "bf6ae077",
   "metadata": {},
   "source": [
    "# 6.Take user input (name, address, date of birth etc) to fill a form for your college and print their email IDs"
   ]
  },
  {
   "cell_type": "code",
   "execution_count": 14,
   "id": "44f88878",
   "metadata": {},
   "outputs": [
    {
     "name": "stdout",
     "output_type": "stream",
     "text": [
      "Enter your name:shahabas\n",
      "Enter your address:tirur\n",
      "Enter your date of birth:18/01/1994\n",
      "student name :shahabas\n",
      "student address :tirur\n",
      "student date of birth :18/01/1994\n",
      "student mailid: shahabas@gmail.com\n"
     ]
    }
   ],
   "source": [
    "a=input(\"Enter your name:\")\n",
    "b=input(\"Enter your address:\")\n",
    "c=input(\"Enter your date of birth:\")\n",
    "\n",
    "\n",
    "print(f\"student name :{a}\")\n",
    "print(f\"student address :{b}\")\n",
    "print(f\"student date of birth :{c}\")\n",
    "print(f\"student mailid: {a}@gmail.com\")"
   ]
  },
  {
   "cell_type": "markdown",
   "id": "84ff74d1",
   "metadata": {},
   "source": [
    "# 3.How many reserve keywords are there in python and why we should not use them as a variable name."
   ]
  },
  {
   "cell_type": "markdown",
   "id": "1df249e1",
   "metadata": {},
   "source": [
    "### 33 reserved keywords available in python now. reserve keywords have special meaning to the interpreter, that can be used to define the syntax and structure of programming language.\n"
   ]
  },
  {
   "cell_type": "markdown",
   "id": "a3e5e68f",
   "metadata": {},
   "source": [
    "# 1.Find out all the types of error that we have encountered in our lecture and why? Also include the examples."
   ]
  },
  {
   "cell_type": "code",
   "execution_count": 15,
   "id": "04daa92e",
   "metadata": {},
   "outputs": [
    {
     "ename": "NameError",
     "evalue": "name 'Print' is not defined",
     "output_type": "error",
     "traceback": [
      "\u001b[0;31m---------------------------------------------------------------------------\u001b[0m",
      "\u001b[0;31mNameError\u001b[0m                                 Traceback (most recent call last)",
      "Cell \u001b[0;32mIn [15], line 1\u001b[0m\n\u001b[0;32m----> 1\u001b[0m \u001b[43mPrint\u001b[49m(\u001b[38;5;124m\"\u001b[39m\u001b[38;5;124mHi there\u001b[39m\u001b[38;5;124m\"\u001b[39m)\n",
      "\u001b[0;31mNameError\u001b[0m: name 'Print' is not defined"
     ]
    }
   ],
   "source": [
    "Print(\"Hi there\") # case sensitive"
   ]
  },
  {
   "cell_type": "code",
   "execution_count": 16,
   "id": "9ad17627",
   "metadata": {},
   "outputs": [
    {
     "ename": "SyntaxError",
     "evalue": "Missing parentheses in call to 'print'. Did you mean print(...)? (2450982236.py, line 1)",
     "output_type": "error",
     "traceback": [
      "\u001b[0;36m  Cell \u001b[0;32mIn [16], line 1\u001b[0;36m\u001b[0m\n\u001b[0;31m    print \"hi there\"\u001b[0m\n\u001b[0m    ^\u001b[0m\n\u001b[0;31mSyntaxError\u001b[0m\u001b[0;31m:\u001b[0m Missing parentheses in call to 'print'. Did you mean print(...)?\n"
     ]
    }
   ],
   "source": [
    "print \"hi there\" # misses the brackets"
   ]
  },
  {
   "cell_type": "code",
   "execution_count": 19,
   "id": "05593a0b",
   "metadata": {},
   "outputs": [
    {
     "ename": "SyntaxError",
     "evalue": "unterminated string literal (detected at line 1) (1445969742.py, line 1)",
     "output_type": "error",
     "traceback": [
      "\u001b[0;36m  Cell \u001b[0;32mIn [19], line 1\u001b[0;36m\u001b[0m\n\u001b[0;31m    print(\"hi\u001b[0m\n\u001b[0m          ^\u001b[0m\n\u001b[0;31mSyntaxError\u001b[0m\u001b[0;31m:\u001b[0m unterminated string literal (detected at line 1)\n"
     ]
    }
   ],
   "source": [
    "print(\"hi\n",
    "        there\")"
   ]
  },
  {
   "cell_type": "code",
   "execution_count": 20,
   "id": "3fd5c4f0",
   "metadata": {},
   "outputs": [
    {
     "ename": "TypeError",
     "evalue": "can only concatenate str (not \"int\") to str",
     "output_type": "error",
     "traceback": [
      "\u001b[0;31m---------------------------------------------------------------------------\u001b[0m",
      "\u001b[0;31mTypeError\u001b[0m                                 Traceback (most recent call last)",
      "Cell \u001b[0;32mIn [20], line 1\u001b[0m\n\u001b[0;32m----> 1\u001b[0m \u001b[38;5;124;43m'\u001b[39;49m\u001b[38;5;124;43mdata\u001b[39;49m\u001b[38;5;124;43m'\u001b[39;49m\u001b[38;5;241;43m+\u001b[39;49m\u001b[38;5;241;43m1\u001b[39;49m\n",
      "\u001b[0;31mTypeError\u001b[0m: can only concatenate str (not \"int\") to str"
     ]
    }
   ],
   "source": [
    "'data'+1 # it should be in same data type"
   ]
  },
  {
   "cell_type": "code",
   "execution_count": 21,
   "id": "c2fd2a71",
   "metadata": {},
   "outputs": [
    {
     "ename": "NameError",
     "evalue": "name 'f' is not defined",
     "output_type": "error",
     "traceback": [
      "\u001b[0;31m---------------------------------------------------------------------------\u001b[0m",
      "\u001b[0;31mNameError\u001b[0m                                 Traceback (most recent call last)",
      "Cell \u001b[0;32mIn [21], line 1\u001b[0m\n\u001b[0;32m----> 1\u001b[0m \u001b[43mf\u001b[49m\n",
      "\u001b[0;31mNameError\u001b[0m: name 'f' is not defined"
     ]
    }
   ],
   "source": [
    "f # not defined the variable"
   ]
  },
  {
   "cell_type": "code",
   "execution_count": 22,
   "id": "ee72cce6",
   "metadata": {},
   "outputs": [
    {
     "ename": "TypeError",
     "evalue": "cannot unpack non-iterable int object",
     "output_type": "error",
     "traceback": [
      "\u001b[0;31m---------------------------------------------------------------------------\u001b[0m",
      "\u001b[0;31mTypeError\u001b[0m                                 Traceback (most recent call last)",
      "Cell \u001b[0;32mIn [22], line 1\u001b[0m\n\u001b[0;32m----> 1\u001b[0m a,b,c\u001b[38;5;241m=\u001b[39m\u001b[38;5;241m1\u001b[39m\n",
      "\u001b[0;31mTypeError\u001b[0m: cannot unpack non-iterable int object"
     ]
    }
   ],
   "source": [
    "a,b,c=1 # didnt given the other 2 values to the variables"
   ]
  },
  {
   "cell_type": "code",
   "execution_count": 23,
   "id": "b8008f97",
   "metadata": {},
   "outputs": [
    {
     "ename": "ValueError",
     "evalue": "invalid literal for int() with base 10: '50.22'",
     "output_type": "error",
     "traceback": [
      "\u001b[0;31m---------------------------------------------------------------------------\u001b[0m",
      "\u001b[0;31mValueError\u001b[0m                                Traceback (most recent call last)",
      "Cell \u001b[0;32mIn [23], line 2\u001b[0m\n\u001b[1;32m      1\u001b[0m a\u001b[38;5;241m=\u001b[39m\u001b[38;5;124m\"\u001b[39m\u001b[38;5;124m50.22\u001b[39m\u001b[38;5;124m\"\u001b[39m\n\u001b[0;32m----> 2\u001b[0m \u001b[38;5;28;43mint\u001b[39;49m\u001b[43m(\u001b[49m\u001b[43ma\u001b[49m\u001b[43m)\u001b[49m\n",
      "\u001b[0;31mValueError\u001b[0m: invalid literal for int() with base 10: '50.22'"
     ]
    }
   ],
   "source": [
    "a=\"50.22\"\n",
    "int(a)  ### "
   ]
  },
  {
   "cell_type": "code",
   "execution_count": 24,
   "id": "eb698473",
   "metadata": {},
   "outputs": [
    {
     "ename": "ValueError",
     "evalue": "invalid literal for int() with base 10: ''",
     "output_type": "error",
     "traceback": [
      "\u001b[0;31m---------------------------------------------------------------------------\u001b[0m",
      "\u001b[0;31mValueError\u001b[0m                                Traceback (most recent call last)",
      "Cell \u001b[0;32mIn [24], line 2\u001b[0m\n\u001b[1;32m      1\u001b[0m b\u001b[38;5;241m=\u001b[39m\u001b[38;5;124m\"\u001b[39m\u001b[38;5;124m\"\u001b[39m\n\u001b[0;32m----> 2\u001b[0m \u001b[38;5;28;43mint\u001b[39;49m\u001b[43m(\u001b[49m\u001b[43mb\u001b[49m\u001b[43m)\u001b[49m\n",
      "\u001b[0;31mValueError\u001b[0m: invalid literal for int() with base 10: ''"
     ]
    }
   ],
   "source": [
    "b=\"\"\n",
    "int(b)"
   ]
  },
  {
   "cell_type": "code",
   "execution_count": null,
   "id": "67f8e13b",
   "metadata": {},
   "outputs": [],
   "source": []
  }
 ],
 "metadata": {
  "kernelspec": {
   "display_name": "Python 3 (ipykernel)",
   "language": "python",
   "name": "python3"
  },
  "language_info": {
   "codemirror_mode": {
    "name": "ipython",
    "version": 3
   },
   "file_extension": ".py",
   "mimetype": "text/x-python",
   "name": "python",
   "nbconvert_exporter": "python",
   "pygments_lexer": "ipython3",
   "version": "3.10.4"
  }
 },
 "nbformat": 4,
 "nbformat_minor": 5
}
