{
 "cells": [
  {
   "cell_type": "code",
   "execution_count": 1,
   "id": "25f63784",
   "metadata": {},
   "outputs": [
    {
     "name": "stdout",
     "output_type": "stream",
     "text": [
      "the area of the circle is 157.14285714285714\n"
     ]
    }
   ],
   "source": [
    "pi=22/7\n",
    "\n",
    "radius=5\n",
    "\n",
    "circle_area=2*pi*(radius**2)\n",
    "\n",
    "\n",
    "\n",
    "print(f\"the area of the circle is {circle_area}\")"
   ]
  },
  {
   "cell_type": "code",
   "execution_count": 2,
   "id": "751f6158",
   "metadata": {},
   "outputs": [
    {
     "name": "stdout",
     "output_type": "stream",
     "text": [
      "one\n"
     ]
    }
   ],
   "source": [
    "num=1\n",
    "\n",
    "if num==1:\n",
    "    print(\"one\")"
   ]
  },
  {
   "cell_type": "code",
   "execution_count": 3,
   "id": "7733fda3",
   "metadata": {},
   "outputs": [
    {
     "name": "stdout",
     "output_type": "stream",
     "text": [
      "Enter the number:17\n",
      "the number:17 is odd\n"
     ]
    }
   ],
   "source": [
    "num=int(input(\"Enter the number:\"))\n",
    "\n",
    "if num%2==0:\n",
    "    print(f\"the number:{num} is even\")\n",
    "else:\n",
    "    print(f\"the number:{num} is odd\")"
   ]
  },
  {
   "cell_type": "code",
   "execution_count": 4,
   "id": "aae3c372",
   "metadata": {},
   "outputs": [
    {
     "name": "stdout",
     "output_type": "stream",
     "text": [
      "Enter the number:9\n",
      "the number 9 in between 1 and 10\n"
     ]
    }
   ],
   "source": [
    "x=int(input(\"Enter the number:\"))\n",
    "\n",
    "\n",
    "if x in range(1,11):\n",
    "    print(f\"the number {x} in between 1 and 10\")\n",
    "else:\n",
    "    print(f\"the number {x}  not in between 1 and 10\")"
   ]
  },
  {
   "cell_type": "code",
   "execution_count": 5,
   "id": "79a60660",
   "metadata": {},
   "outputs": [
    {
     "name": "stdout",
     "output_type": "stream",
     "text": [
      "Enter the number:128\n",
      "the number :128 is Positive\n"
     ]
    }
   ],
   "source": [
    "num=int(input(\"Enter the number:\"))\n",
    "\n",
    "\n",
    "if num==0:\n",
    "    print(f\"the number :{num} is Zero\")\n",
    "elif num >= 1:\n",
    "    print(f\"the number :{num} is Positive\")\n",
    "else:\n",
    "    print(f\"the number :{num} is Negative\")"
   ]
  },
  {
   "cell_type": "code",
   "execution_count": 6,
   "id": "42b881b8",
   "metadata": {},
   "outputs": [
    {
     "name": "stdout",
     "output_type": "stream",
     "text": [
      "100\n",
      "102\n",
      "104\n",
      "106\n",
      "108\n",
      "110\n",
      "112\n",
      "114\n",
      "116\n",
      "118\n",
      "120\n",
      "122\n",
      "124\n",
      "126\n",
      "128\n",
      "130\n",
      "132\n",
      "134\n",
      "136\n",
      "138\n",
      "140\n",
      "142\n",
      "144\n",
      "146\n",
      "148\n",
      "150\n",
      "152\n",
      "154\n",
      "156\n",
      "158\n",
      "160\n",
      "162\n",
      "164\n",
      "166\n",
      "168\n",
      "170\n",
      "172\n",
      "174\n",
      "176\n",
      "178\n",
      "180\n",
      "182\n",
      "184\n",
      "186\n",
      "188\n",
      "190\n",
      "192\n",
      "194\n",
      "196\n",
      "198\n",
      "200\n"
     ]
    }
   ],
   "source": [
    "x=100\n",
    "\n",
    "while x>=100 and x<=200:\n",
    "    print(x)\n",
    "    x=x+2\n",
    "    "
   ]
  },
  {
   "cell_type": "code",
   "execution_count": 7,
   "id": "c765663e",
   "metadata": {},
   "outputs": [
    {
     "name": "stdout",
     "output_type": "stream",
     "text": [
      "2\n",
      "4\n",
      "6\n",
      "8\n",
      "10\n",
      "12\n",
      "14\n",
      "16\n",
      "18\n",
      "20\n"
     ]
    }
   ],
   "source": [
    "x=1\n",
    "\n",
    "if x%2 !=0:\n",
    "    x=x+1\n",
    "\n",
    "while x>=1 and x<=20:\n",
    "    print(x)\n",
    "    x=x+2"
   ]
  },
  {
   "cell_type": "code",
   "execution_count": 8,
   "id": "be442d19",
   "metadata": {},
   "outputs": [
    {
     "name": "stdout",
     "output_type": "stream",
     "text": [
      "H\n",
      "e\n",
      "l\n",
      "o\n",
      "o\n",
      "o\n"
     ]
    }
   ],
   "source": [
    "s=\"Helooo\"\n",
    "\n",
    "for char in s:\n",
    "    print(char)"
   ]
  },
  {
   "cell_type": "code",
   "execution_count": 9,
   "id": "a97bfce0",
   "metadata": {},
   "outputs": [
    {
     "name": "stdout",
     "output_type": "stream",
     "text": [
      "H\n",
      "e\n",
      "l\n",
      "o\n",
      "o\n",
      "o\n"
     ]
    }
   ],
   "source": [
    "for i in range(len(s)):\n",
    "    print(s[i])"
   ]
  },
  {
   "cell_type": "code",
   "execution_count": 10,
   "id": "b763723e",
   "metadata": {},
   "outputs": [
    {
     "name": "stdout",
     "output_type": "stream",
     "text": [
      "10\n",
      "9\n",
      "8\n",
      "7\n",
      "6\n",
      "5\n",
      "4\n",
      "3\n",
      "2\n",
      "1\n"
     ]
    }
   ],
   "source": [
    "for i in range(10,0,-1):\n",
    "    print(i)"
   ]
  },
  {
   "cell_type": "code",
   "execution_count": 11,
   "id": "ec3ead81",
   "metadata": {},
   "outputs": [
    {
     "name": "stdout",
     "output_type": "stream",
     "text": [
      "10\n",
      "20.5\n",
      "A\n",
      "America\n"
     ]
    }
   ],
   "source": [
    "my_list=[10,20.5,\"A\",\"America\"]\n",
    "\n",
    "for each in my_list:\n",
    "    print(each)"
   ]
  },
  {
   "cell_type": "code",
   "execution_count": 13,
   "id": "6faa6d34",
   "metadata": {},
   "outputs": [
    {
     "name": "stdout",
     "output_type": "stream",
     "text": [
      "150\n"
     ]
    }
   ],
   "source": [
    "a=[10,20,30,40,50]\n",
    "\n",
    "sum_A=0\n",
    "for i in a:\n",
    "    sum_A=sum_A+i\n",
    "print(sum_A)    "
   ]
  },
  {
   "cell_type": "code",
   "execution_count": 24,
   "id": "a514aeef",
   "metadata": {},
   "outputs": [
    {
     "name": "stdout",
     "output_type": "stream",
     "text": [
      "10\n",
      "20\n",
      "30\n",
      "40\n",
      "50\n",
      "150\n"
     ]
    }
   ],
   "source": [
    "l= len(a)\n",
    "i=0\n",
    "sum_a=0\n",
    "while i < l:\n",
    "    print(a[i])\n",
    "    \n",
    "    sum_a=sum_a+a[i]\n",
    "    i=i+1\n",
    "print(sum_a)"
   ]
  },
  {
   "cell_type": "code",
   "execution_count": 25,
   "id": "79e9e61f",
   "metadata": {},
   "outputs": [
    {
     "name": "stdout",
     "output_type": "stream",
     "text": [
      "* \n",
      "* * \n",
      "* * * \n",
      "* * * * \n",
      "* * * * * \n",
      "* * * * * * \n",
      "* * * * * * * \n",
      "* * * * * * * * \n",
      "* * * * * * * * * \n",
      "* * * * * * * * * * \n"
     ]
    }
   ],
   "source": [
    "for i in range(1,11):\n",
    "    for j in range(1,i+1):\n",
    "        print(\"*\",end=\" \")\n",
    "    print()"
   ]
  },
  {
   "cell_type": "code",
   "execution_count": 27,
   "id": "108351c6",
   "metadata": {},
   "outputs": [
    {
     "name": "stdout",
     "output_type": "stream",
     "text": [
      "* \n",
      "* * \n",
      "* * * \n",
      "* * * * \n",
      "* * * * * \n",
      "* * * * * * \n",
      "* * * * * * * \n",
      "* * * * * * * * \n",
      "* * * * * * * * * \n",
      "* * * * * * * * * * \n"
     ]
    }
   ],
   "source": [
    "for i in range(1,11):\n",
    "    print(\"* \"*i)"
   ]
  },
  {
   "cell_type": "code",
   "execution_count": 29,
   "id": "c3f8072b",
   "metadata": {},
   "outputs": [
    {
     "name": "stdout",
     "output_type": "stream",
     "text": [
      "3 found in list\n"
     ]
    }
   ],
   "source": [
    "lis=[1,2,3,4,5]\n",
    "\n",
    "\n",
    "for i in lis:\n",
    "    if i==3:\n",
    "        print(f\"{i} found in list\")\n",
    "        break\n",
    "else:\n",
    "    print(\"not in list\")"
   ]
  },
  {
   "cell_type": "code",
   "execution_count": 33,
   "id": "20d87696",
   "metadata": {},
   "outputs": [
    {
     "name": "stdout",
     "output_type": "stream",
     "text": [
      "10\n",
      "9\n",
      "8\n",
      "7\n",
      "6\n",
      "out of loop\n"
     ]
    }
   ],
   "source": [
    "x=10\n",
    "while x >=1:\n",
    "    print(x)\n",
    "    x=x-1\n",
    "    if x==5:\n",
    "        \n",
    "        break\n",
    "print(\"out of loop\")"
   ]
  },
  {
   "cell_type": "code",
   "execution_count": 8,
   "id": "a24c5fd2",
   "metadata": {},
   "outputs": [
    {
     "name": "stdout",
     "output_type": "stream",
     "text": [
      "2\n",
      "3\n",
      "4\n",
      "5\n",
      "6\n",
      "7\n",
      "8\n",
      "9\n",
      "10\n",
      "out of loop\n"
     ]
    }
   ],
   "source": [
    "x=1\n",
    "\n",
    "while 10>x:\n",
    "    \n",
    "    x=x+1\n",
    "    if x==5:\n",
    "        pass\n",
    "    print(x)\n",
    "        \n",
    "print(\"out of loop\")"
   ]
  },
  {
   "cell_type": "code",
   "execution_count": 9,
   "id": "e938c4f2",
   "metadata": {},
   "outputs": [
    {
     "name": "stdout",
     "output_type": "stream",
     "text": [
      "[1, 4, 9, 16, 25, 36, 49, 64, 81, 100]\n"
     ]
    }
   ],
   "source": [
    "my_lis=list(range(1,11))\n",
    "\n",
    "ans=list()\n",
    "\n",
    "for i in my_lis:\n",
    "    ans.append(i*i)\n",
    "print(ans)"
   ]
  },
  {
   "cell_type": "code",
   "execution_count": 11,
   "id": "d51c45aa",
   "metadata": {},
   "outputs": [
    {
     "data": {
      "text/plain": [
       "[1, 9, 25, 49, 81]"
      ]
     },
     "execution_count": 11,
     "metadata": {},
     "output_type": "execute_result"
    }
   ],
   "source": [
    "ans=[i*i for i in my_lis if (i*i)%2 !=0]\n",
    "\n",
    "ans"
   ]
  },
  {
   "cell_type": "code",
   "execution_count": 12,
   "id": "f4ae54be",
   "metadata": {},
   "outputs": [
    {
     "data": {
      "text/plain": [
       "[1, 2, 3, 4, 5, 6, 7, 8, 9, 10]"
      ]
     },
     "execution_count": 12,
     "metadata": {},
     "output_type": "execute_result"
    }
   ],
   "source": [
    "my_lis"
   ]
  },
  {
   "cell_type": "code",
   "execution_count": 14,
   "id": "25dfa43b",
   "metadata": {},
   "outputs": [
    {
     "name": "stdout",
     "output_type": "stream",
     "text": [
      "6\n",
      "9\n"
     ]
    }
   ],
   "source": [
    "b=[1, 2, 3, 4, 5, 6, 7+8j, 8, 9, 10+5j]\n",
    "\n",
    "\n",
    "\n",
    "for i in b:\n",
    "    if type(i)==complex:\n",
    "        print(b.index(i))"
   ]
  },
  {
   "cell_type": "code",
   "execution_count": 4,
   "id": "66452e98",
   "metadata": {},
   "outputs": [
    {
     "name": "stdout",
     "output_type": "stream",
     "text": [
      "[['sha', 'qwe', 'poi', 'tyu', 'zxc'], ['abc', 'qwe', 'poi', 'tyu', 'zxc'], ['fgh', 'qwe', 'poi', 'tyu', 'zxc']]\n"
     ]
    }
   ],
   "source": [
    "my=[[\"sha\"],[\"abc\"],[\"fgh\"]]\n",
    "num=[\"qwe\",'poi','tyu','zxc']\n",
    "data=[]\n",
    "for i in my:\n",
    "    #print(mylist[i][0])\n",
    "    for j in num:\n",
    "        i.append(j)\n",
    "        \n",
    "print(my)"
   ]
  },
  {
   "cell_type": "code",
   "execution_count": 1,
   "id": "bf6f8d69",
   "metadata": {},
   "outputs": [],
   "source": [
    "my=[[\"sha\"],[\"abc\"],[\"fgh\"]]\n",
    "\n",
    "my[1].append(\"qwerty\")"
   ]
  },
  {
   "cell_type": "code",
   "execution_count": 2,
   "id": "6b3c1c8f",
   "metadata": {},
   "outputs": [
    {
     "data": {
      "text/plain": [
       "[['sha'], ['abc', 'qwerty'], ['fgh']]"
      ]
     },
     "execution_count": 2,
     "metadata": {},
     "output_type": "execute_result"
    }
   ],
   "source": [
    "my"
   ]
  }
 ],
 "metadata": {
  "kernelspec": {
   "display_name": "Python 3 (ipykernel)",
   "language": "python",
   "name": "python3"
  },
  "language_info": {
   "codemirror_mode": {
    "name": "ipython",
    "version": 3
   },
   "file_extension": ".py",
   "mimetype": "text/x-python",
   "name": "python",
   "nbconvert_exporter": "python",
   "pygments_lexer": "ipython3",
   "version": "3.10.4"
  }
 },
 "nbformat": 4,
 "nbformat_minor": 5
}
