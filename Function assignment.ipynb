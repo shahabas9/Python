{
 "cells": [
  {
   "cell_type": "code",
   "execution_count": 33,
   "id": "ac57784e",
   "metadata": {},
   "outputs": [],
   "source": [
    "def length_of_string(a):\n",
    "    \"\"\" this function gives you the length of the string\"\"\"\n",
    "    total=0\n",
    "    for i in a:\n",
    "        total=total+1\n",
    "    return total"
   ]
  },
  {
   "cell_type": "code",
   "execution_count": 63,
   "id": "cca0799d",
   "metadata": {},
   "outputs": [],
   "source": [
    "def postion(lis,element):\n",
    "    \"\"\"this function will return the indexes of the element\"\"\"\n",
    "    for x in range(len(lis)):\n",
    "        if l[x]==element:\n",
    "            a=print(x)\n",
    "    return a"
   ]
  },
  {
   "cell_type": "code",
   "execution_count": 65,
   "id": "b0814ce9",
   "metadata": {},
   "outputs": [
    {
     "name": "stdout",
     "output_type": "stream",
     "text": [
      "1\n",
      "4\n"
     ]
    }
   ],
   "source": [
    "postion(l,2)"
   ]
  },
  {
   "cell_type": "code",
   "execution_count": 69,
   "id": "ea5a2b8e",
   "metadata": {},
   "outputs": [],
   "source": [
    "def ipaddress():\n",
    "    \"\"\"this function gives you the ip address of the local system\"\"\"\n",
    "    import socket\n",
    "    hostname=socket.gethostname()\n",
    "    ip_address=socket.gethostbyname(hostname)\n",
    "    return ip_address"
   ]
  },
  {
   "cell_type": "code",
   "execution_count": 70,
   "id": "58169342",
   "metadata": {},
   "outputs": [
    {
     "data": {
      "text/plain": [
       "'127.0.1.1'"
      ]
     },
     "execution_count": 70,
     "metadata": {},
     "output_type": "execute_result"
    }
   ],
   "source": [
    "ipaddress()"
   ]
  },
  {
   "cell_type": "code",
   "execution_count": 72,
   "id": "88a83aed",
   "metadata": {},
   "outputs": [
    {
     "name": "stderr",
     "output_type": "stream",
     "text": [
      "Failed to parse time specification: /s\n"
     ]
    },
    {
     "data": {
      "text/plain": [
       "256"
      ]
     },
     "execution_count": 72,
     "metadata": {},
     "output_type": "execute_result"
    }
   ],
   "source": [
    "os.system('shutdown /s /t 1')"
   ]
  },
  {
   "cell_type": "code",
   "execution_count": 73,
   "id": "dc37f70f",
   "metadata": {},
   "outputs": [
    {
     "name": "stderr",
     "output_type": "stream",
     "text": [
      "Failed to parse time specification: /s\n"
     ]
    },
    {
     "data": {
      "text/plain": [
       "256"
      ]
     },
     "execution_count": 73,
     "metadata": {},
     "output_type": "execute_result"
    }
   ],
   "source": [
    "os.system(\"shutdown /s /t 1\")"
   ]
  },
  {
   "cell_type": "code",
   "execution_count": 74,
   "id": "334d7bbc",
   "metadata": {},
   "outputs": [
    {
     "name": "stderr",
     "output_type": "stream",
     "text": [
      "shutdown: invalid option -- 's'\n"
     ]
    },
    {
     "data": {
      "text/plain": [
       "256"
      ]
     },
     "execution_count": 74,
     "metadata": {},
     "output_type": "execute_result"
    }
   ],
   "source": [
    "os.system('shutdown -s')"
   ]
  },
  {
   "cell_type": "code",
   "execution_count": 77,
   "id": "ee6c1588",
   "metadata": {},
   "outputs": [
    {
     "name": "stderr",
     "output_type": "stream",
     "text": [
      "sudo: a terminal is required to read the password; either use the -S option to read from standard input or configure an askpass helper\n"
     ]
    },
    {
     "data": {
      "text/plain": [
       "256"
      ]
     },
     "execution_count": 77,
     "metadata": {},
     "output_type": "execute_result"
    }
   ],
   "source": [
    "os.system(\"sudo shutdown -s\")"
   ]
  },
  {
   "cell_type": "code",
   "execution_count": 80,
   "id": "c28fd25f",
   "metadata": {},
   "outputs": [
    {
     "name": "stderr",
     "output_type": "stream",
     "text": [
      "sudo: a terminal is required to read the password; either use the -S option to read from standard input or configure an askpass helper\n"
     ]
    },
    {
     "data": {
      "text/plain": [
       "256"
      ]
     },
     "execution_count": 80,
     "metadata": {},
     "output_type": "execute_result"
    }
   ],
   "source": [
    "os.system('sudo poweroff')"
   ]
  },
  {
   "cell_type": "code",
   "execution_count": 2,
   "id": "db660e9c",
   "metadata": {},
   "outputs": [
    {
     "name": "stdout",
     "output_type": "stream",
     "text": [
      "enter the list2.67\n",
      "enter the listshahabas\n",
      "enter the list3\n",
      "enter the list5\n",
      "enter the list6.67\n"
     ]
    }
   ],
   "source": [
    "b=list()\n",
    "for i in range(5):\n",
    "    a=input(\"enter the list\")\n",
    "    b.append(a)\n",
    "    \n"
   ]
  },
  {
   "cell_type": "code",
   "execution_count": 3,
   "id": "641a7bf5",
   "metadata": {},
   "outputs": [
    {
     "data": {
      "text/plain": [
       "['2.67', 'shahabas', '3', '5', '6.67']"
      ]
     },
     "execution_count": 3,
     "metadata": {},
     "output_type": "execute_result"
    }
   ],
   "source": [
    "b"
   ]
  },
  {
   "cell_type": "code",
   "execution_count": 18,
   "id": "c5a2a898",
   "metadata": {},
   "outputs": [],
   "source": [
    "def multiplication():\n",
    "\n",
    "    b=list()\n",
    "    for i in range(7):\n",
    "        a=input(\"enter the list: \")\n",
    "        b.append(a)\n",
    "\n",
    "\n",
    "    total=1\n",
    "    for i in b:\n",
    "        if i.isalpha()==False:\n",
    "            i=float(i)\n",
    "            total=total*i\n",
    "    \n",
    "    \n",
    "    return total"
   ]
  },
  {
   "cell_type": "code",
   "execution_count": 16,
   "id": "a28ca02c",
   "metadata": {},
   "outputs": [
    {
     "name": "stdout",
     "output_type": "stream",
     "text": [
      "enter the list3.5\n",
      "enter the list6.56\n",
      "enter the list4\n",
      "enter the list5\n",
      "enter the listsudh\n"
     ]
    },
    {
     "data": {
      "text/plain": [
       "459.19999999999993"
      ]
     },
     "execution_count": 16,
     "metadata": {},
     "output_type": "execute_result"
    }
   ],
   "source": [
    "multiplication()"
   ]
  },
  {
   "cell_type": "code",
   "execution_count": 85,
   "id": "82e34c81",
   "metadata": {},
   "outputs": [],
   "source": [
    "def multiplication():\n",
    "    \n",
    "    \"\"\"this function gives you the multiplication of all numeric values in a list\"\"\"\n",
    "\n",
    "    l=[3.5,6.56,4,5,\"sudh\",\"ineuron\",\"fsda bootcamp 2.0\"]\n",
    "\n",
    "    num_list=list()\n",
    "\n",
    "    mult=1\n",
    "\n",
    "\n",
    "    for i in l:\n",
    "        if type(i)==int or type(i)==float:\n",
    "            num_list.append(i)\n",
    "    for j in num_list:\n",
    "        mult=mult*j\n",
    "        \n",
    "    return mult\n",
    "\n",
    "    \n",
    "      \n"
   ]
  },
  {
   "cell_type": "code",
   "execution_count": 87,
   "id": "8eb76eb0",
   "metadata": {},
   "outputs": [
    {
     "data": {
      "text/plain": [
       "459.19999999999993"
      ]
     },
     "execution_count": 87,
     "metadata": {},
     "output_type": "execute_result"
    }
   ],
   "source": [
    "multiplication()"
   ]
  },
  {
   "cell_type": "code",
   "execution_count": 88,
   "id": "5c084622",
   "metadata": {},
   "outputs": [
    {
     "ename": "ModuleNotFoundError",
     "evalue": "No module named 'textract'",
     "output_type": "error",
     "traceback": [
      "\u001b[0;31m---------------------------------------------------------------------------\u001b[0m",
      "\u001b[0;31mModuleNotFoundError\u001b[0m                       Traceback (most recent call last)",
      "Cell \u001b[0;32mIn [88], line 1\u001b[0m\n\u001b[0;32m----> 1\u001b[0m \u001b[38;5;28;01mimport\u001b[39;00m \u001b[38;5;21;01mtextract\u001b[39;00m\n",
      "\u001b[0;31mModuleNotFoundError\u001b[0m: No module named 'textract'"
     ]
    }
   ],
   "source": [
    "import textract"
   ]
  },
  {
   "cell_type": "code",
   "execution_count": 89,
   "id": "5d6062c7",
   "metadata": {},
   "outputs": [
    {
     "name": "stdout",
     "output_type": "stream",
     "text": [
      "Collecting textract\n",
      "  Downloading textract-1.6.5-py3-none-any.whl (23 kB)\n",
      "Collecting python-pptx~=0.6.18\n",
      "  Downloading python-pptx-0.6.21.tar.gz (10.1 MB)\n",
      "\u001b[2K     \u001b[38;2;114;156;31m━━━━━━━━━━━━━━━━━━━━━━━━━━━━━━━━━━━━━━━\u001b[0m \u001b[32m10.1/10.1 MB\u001b[0m \u001b[31m214.2 kB/s\u001b[0m eta \u001b[36m0:00:00\u001b[0mm eta \u001b[36m0:00:01\u001b[0m[36m0:00:02\u001b[0m\n",
      "\u001b[?25h  Preparing metadata (setup.py) ... \u001b[?25ldone\n",
      "\u001b[?25hCollecting six~=1.12.0\n",
      "  Downloading six-1.12.0-py2.py3-none-any.whl (10 kB)\n",
      "Collecting extract-msg<=0.29.*\n",
      "  Downloading extract_msg-0.28.7-py2.py3-none-any.whl (69 kB)\n",
      "\u001b[2K     \u001b[38;2;114;156;31m━━━━━━━━━━━━━━━━━━━━━━━━━━━━━━━━━━━━━━━\u001b[0m \u001b[32m69.0/69.0 kB\u001b[0m \u001b[31m208.9 kB/s\u001b[0m eta \u001b[36m0:00:00\u001b[0m1m235.9 kB/s\u001b[0m eta \u001b[36m0:00:01\u001b[0m\n",
      "\u001b[?25hCollecting beautifulsoup4~=4.8.0\n",
      "  Downloading beautifulsoup4-4.8.2-py3-none-any.whl (106 kB)\n",
      "\u001b[2K     \u001b[38;2;114;156;31m━━━━━━━━━━━━━━━━━━━━━━━━━━━━━━━━━━━━━\u001b[0m \u001b[32m106.9/106.9 kB\u001b[0m \u001b[31m409.9 kB/s\u001b[0m eta \u001b[36m0:00:00\u001b[0m kB/s\u001b[0m eta \u001b[36m0:00:01\u001b[0m:01\u001b[0m\n",
      "\u001b[?25hCollecting pdfminer.six==20191110\n",
      "  Downloading pdfminer.six-20191110-py2.py3-none-any.whl (5.6 MB)\n",
      "\u001b[2K     \u001b[38;2;114;156;31m━━━━━━━━━━━━━━━━━━━━━━━━━━━━━━━━━━━━━━━━\u001b[0m \u001b[32m5.6/5.6 MB\u001b[0m \u001b[31m220.2 kB/s\u001b[0m eta \u001b[36m0:00:00\u001b[0mm eta \u001b[36m0:00:01\u001b[0m[36m0:00:01\u001b[0m\n",
      "\u001b[?25hCollecting SpeechRecognition~=3.8.1\n",
      "  Downloading SpeechRecognition-3.8.1-py2.py3-none-any.whl (32.8 MB)\n",
      "\u001b[2K     \u001b[38;2;114;156;31m━━━━━━━━━━━━━━━━━━━━━━━━━━━━━━━━━━━━━━━\u001b[0m \u001b[32m32.8/32.8 MB\u001b[0m \u001b[31m240.6 kB/s\u001b[0m eta \u001b[36m0:00:00\u001b[0mm eta \u001b[36m0:00:01\u001b[0m[36m0:00:04\u001b[0m\n",
      "\u001b[?25hCollecting chardet==3.*\n",
      "  Downloading chardet-3.0.4-py2.py3-none-any.whl (133 kB)\n",
      "\u001b[2K     \u001b[38;2;114;156;31m━━━━━━━━━━━━━━━━━━━━━━━━━━━━━━━━━━━━━\u001b[0m \u001b[32m133.4/133.4 kB\u001b[0m \u001b[31m286.8 kB/s\u001b[0m eta \u001b[36m0:00:00\u001b[0mm eta \u001b[36m0:00:01\u001b[0m0:01\u001b[0m:01\u001b[0m\n",
      "\u001b[?25hCollecting xlrd~=1.2.0\n",
      "  Downloading xlrd-1.2.0-py2.py3-none-any.whl (103 kB)\n",
      "\u001b[2K     \u001b[38;2;114;156;31m━━━━━━━━━━━━━━━━━━━━━━━━━━━━━━━━━━━━━\u001b[0m \u001b[32m103.3/103.3 kB\u001b[0m \u001b[31m309.2 kB/s\u001b[0m eta \u001b[36m0:00:00\u001b[0mm eta \u001b[36m0:00:01\u001b[0m0:01\u001b[0m:01\u001b[0m\n",
      "\u001b[?25hCollecting argcomplete~=1.10.0\n",
      "  Downloading argcomplete-1.10.3-py2.py3-none-any.whl (36 kB)\n",
      "Collecting docx2txt~=0.8\n",
      "  Downloading docx2txt-0.8.tar.gz (2.8 kB)\n",
      "  Preparing metadata (setup.py) ... \u001b[?25ldone\n",
      "\u001b[?25hCollecting sortedcontainers\n",
      "  Downloading sortedcontainers-2.4.0-py2.py3-none-any.whl (29 kB)\n",
      "Collecting pycryptodome\n",
      "  Downloading pycryptodome-3.15.0-cp35-abi3-manylinux2010_x86_64.whl (2.3 MB)\n",
      "\u001b[2K     \u001b[38;2;114;156;31m━━━━━━━━━━━━━━━━━━━━━━━━━━━━━━━━━━━━━━━━\u001b[0m \u001b[32m2.3/2.3 MB\u001b[0m \u001b[31m267.0 kB/s\u001b[0m eta \u001b[36m0:00:00\u001b[0mm eta \u001b[36m0:00:01\u001b[0m[36m0:00:01\u001b[0m\n",
      "\u001b[?25hRequirement already satisfied: soupsieve>=1.2 in /home/shahabas/anaconda3/envs/jidoka_env/lib/python3.10/site-packages (from beautifulsoup4~=4.8.0->textract) (2.3.2.post1)\n",
      "Collecting imapclient==2.1.0\n",
      "  Downloading IMAPClient-2.1.0-py2.py3-none-any.whl (73 kB)\n",
      "\u001b[2K     \u001b[38;2;114;156;31m━━━━━━━━━━━━━━━━━━━━━━━━━━━━━━━━━━━━━━━\u001b[0m \u001b[32m74.0/74.0 kB\u001b[0m \u001b[31m278.1 kB/s\u001b[0m eta \u001b[36m0:00:00\u001b[0m1m329.0 kB/s\u001b[0m eta \u001b[36m0:00:01\u001b[0m\n",
      "\u001b[?25hCollecting ebcdic>=1.1.1\n",
      "  Downloading ebcdic-1.1.1-py2.py3-none-any.whl (128 kB)\n",
      "\u001b[2K     \u001b[38;2;114;156;31m━━━━━━━━━━━━━━━━━━━━━━━━━━━━━━━━━━━━━\u001b[0m \u001b[32m128.5/128.5 kB\u001b[0m \u001b[31m331.4 kB/s\u001b[0m eta \u001b[36m0:00:00\u001b[0m kB/s\u001b[0m eta \u001b[36m0:00:01\u001b[0m\n",
      "\u001b[?25hCollecting tzlocal>=2.1\n",
      "  Downloading tzlocal-4.2-py3-none-any.whl (19 kB)\n",
      "Collecting olefile>=0.46\n",
      "  Downloading olefile-0.46.zip (112 kB)\n",
      "\u001b[2K     \u001b[38;2;114;156;31m━━━━━━━━━━━━━━━━━━━━━━━━━━━━━━━━━━━━━\u001b[0m \u001b[32m112.2/112.2 kB\u001b[0m \u001b[31m358.2 kB/s\u001b[0m eta \u001b[36m0:00:00\u001b[0m1m441.3 kB/s\u001b[0m eta \u001b[36m0:00:01\u001b[0m\n",
      "\u001b[?25h  Preparing metadata (setup.py) ... \u001b[?25ldone\n",
      "\u001b[?25hCollecting compressed-rtf>=1.0.6\n",
      "  Downloading compressed_rtf-1.0.6.tar.gz (5.8 kB)\n",
      "  Preparing metadata (setup.py) ... \u001b[?25ldone\n",
      "\u001b[?25hRequirement already satisfied: lxml>=3.1.0 in /home/shahabas/anaconda3/envs/jidoka_env/lib/python3.10/site-packages (from python-pptx~=0.6.18->textract) (4.9.1)\n",
      "Collecting Pillow>=3.3.2\n",
      "  Downloading Pillow-9.3.0-cp310-cp310-manylinux_2_28_x86_64.whl (3.3 MB)\n",
      "\u001b[2K     \u001b[38;2;114;156;31m━━━━━━━━━━━━━━━━━━━━━━━━━━━━━━━━━━━━━━━━\u001b[0m \u001b[32m3.3/3.3 MB\u001b[0m \u001b[31m257.0 kB/s\u001b[0m eta \u001b[36m0:00:00\u001b[0mm eta \u001b[36m0:00:01\u001b[0m[36m0:00:01\u001b[0m\n",
      "\u001b[?25hCollecting XlsxWriter>=0.5.7\n",
      "  Downloading XlsxWriter-3.0.3-py3-none-any.whl (149 kB)\n",
      "\u001b[2K     \u001b[38;2;114;156;31m━━━━━━━━━━━━━━━━━━━━━━━━━━━━━━━━━━━━━\u001b[0m \u001b[32m150.0/150.0 kB\u001b[0m \u001b[31m357.7 kB/s\u001b[0m eta \u001b[36m0:00:00\u001b[0m kB/s\u001b[0m eta \u001b[36m0:00:01\u001b[0m:01\u001b[0m\n",
      "\u001b[?25hCollecting pytz-deprecation-shim\n",
      "  Downloading pytz_deprecation_shim-0.1.0.post0-py2.py3-none-any.whl (15 kB)\n",
      "Collecting tzdata\n",
      "  Downloading tzdata-2022.5-py2.py3-none-any.whl (336 kB)\n",
      "\u001b[2K     \u001b[38;2;114;156;31m━━━━━━━━━━━━━━━━━━━━━━━━━━━━━━━━━━━━━\u001b[0m \u001b[32m336.7/336.7 kB\u001b[0m \u001b[31m447.8 kB/s\u001b[0m eta \u001b[36m0:00:00\u001b[0m[36m0:00:01\u001b[0mm eta \u001b[36m0:00:01\u001b[0m\n",
      "\u001b[?25hBuilding wheels for collected packages: docx2txt, python-pptx, compressed-rtf, olefile\n",
      "  Building wheel for docx2txt (setup.py) ... \u001b[?25ldone\n",
      "\u001b[?25h  Created wheel for docx2txt: filename=docx2txt-0.8-py3-none-any.whl size=3960 sha256=695997b0e9e40257ffb3a1ac7fc0f0ea8ef2739d0cb7253ad5648ed97dc0926a\n",
      "  Stored in directory: /home/shahabas/.cache/pip/wheels/22/58/cf/093d0a6c3ecfdfc5f6ddd5524043b88e59a9a199cb02352966\n",
      "  Building wheel for python-pptx (setup.py) ... \u001b[?25ldone\n",
      "\u001b[?25h  Created wheel for python-pptx: filename=python_pptx-0.6.21-py3-none-any.whl size=470935 sha256=4df3672bbd05915c06a4fdd10b71c6ae3cd75ee8cc5533f7d6f596439ddc47a1\n",
      "  Stored in directory: /home/shahabas/.cache/pip/wheels/ea/dd/74/01b3ec7256a0800b99384e9a0f7620e358afc3a51a59bf9b49\n",
      "  Building wheel for compressed-rtf (setup.py) ... \u001b[?25ldone\n",
      "\u001b[?25h  Created wheel for compressed-rtf: filename=compressed_rtf-1.0.6-py3-none-any.whl size=6186 sha256=bd3d9dec208d370a0a95241a21578c8baca985eee8440503e46883708f8e1bcd\n",
      "  Stored in directory: /home/shahabas/.cache/pip/wheels/15/3e/48/e7d833ecc516c36f8966d310b1a6386db091a718f1ff3bf85c\n",
      "  Building wheel for olefile (setup.py) ... \u001b[?25ldone\n",
      "\u001b[?25h  Created wheel for olefile: filename=olefile-0.46-py2.py3-none-any.whl size=35415 sha256=82ee4590eaf2d838c5d13b49d07f9dd0d3f7f35060352de6929535feed1260a5\n",
      "  Stored in directory: /home/shahabas/.cache/pip/wheels/02/39/c0/9eb1f7a42b4b38f6f333b6314d4ed11c46f12a0f7b78194f0d\n",
      "Successfully built docx2txt python-pptx compressed-rtf olefile\n",
      "Installing collected packages: SpeechRecognition, sortedcontainers, ebcdic, docx2txt, compressed-rtf, chardet, argcomplete, XlsxWriter, xlrd, tzdata, six, pycryptodome, Pillow, olefile, beautifulsoup4, pytz-deprecation-shim, python-pptx, pdfminer.six, imapclient, tzlocal, extract-msg, textract\n",
      "  Attempting uninstall: six\n",
      "    Found existing installation: six 1.16.0\n",
      "    Uninstalling six-1.16.0:\n",
      "      Successfully uninstalled six-1.16.0\n",
      "  Attempting uninstall: beautifulsoup4\n",
      "    Found existing installation: beautifulsoup4 4.11.1\n",
      "    Uninstalling beautifulsoup4-4.11.1:\n",
      "      Successfully uninstalled beautifulsoup4-4.11.1\n",
      "Successfully installed Pillow-9.3.0 SpeechRecognition-3.8.1 XlsxWriter-3.0.3 argcomplete-1.10.3 beautifulsoup4-4.8.2 chardet-3.0.4 compressed-rtf-1.0.6 docx2txt-0.8 ebcdic-1.1.1 extract-msg-0.28.7 imapclient-2.1.0 olefile-0.46 pdfminer.six-20191110 pycryptodome-3.15.0 python-pptx-0.6.21 pytz-deprecation-shim-0.1.0.post0 six-1.12.0 sortedcontainers-2.4.0 textract-1.6.5 tzdata-2022.5 tzlocal-4.2 xlrd-1.2.0\n",
      "Note: you may need to restart the kernel to use updated packages.\n"
     ]
    }
   ],
   "source": [
    "#pip install textract"
   ]
  },
  {
   "cell_type": "code",
   "execution_count": 105,
   "id": "4e5a86b7",
   "metadata": {},
   "outputs": [
    {
     "data": {
      "text/plain": [
       "['sring.ipynb',\n",
       " 'Untitled 1.docx',\n",
       " 'Control Statements.ipynb',\n",
       " 'Data Analyst Shahabas.pdf',\n",
       " '25-09-2022.ipynb',\n",
       " '24-09-2022.ipynb',\n",
       " '09-10-2022.ipynb',\n",
       " '.ipynb_checkpoints',\n",
       " 'demo_006.ipynb',\n",
       " '29-10-2022-Fuction.ipynb',\n",
       " 'Assignment',\n",
       " '08-10-2022.ipynb',\n",
       " '01-10-2022-class.ipynb']"
      ]
     },
     "execution_count": 105,
     "metadata": {},
     "output_type": "execute_result"
    }
   ],
   "source": [
    "os.listdir()"
   ]
  },
  {
   "cell_type": "code",
   "execution_count": 102,
   "id": "8977ba9f",
   "metadata": {},
   "outputs": [
    {
     "name": "stdout",
     "output_type": "stream",
     "text": [
      "/home/shahabas/shahabas/python\n"
     ]
    }
   ],
   "source": [
    "cd python\n"
   ]
  },
  {
   "cell_type": "code",
   "execution_count": 103,
   "id": "af1a9254",
   "metadata": {},
   "outputs": [],
   "source": [
    "path=os.getcwd()"
   ]
  },
  {
   "cell_type": "code",
   "execution_count": 104,
   "id": "86c1823b",
   "metadata": {},
   "outputs": [
    {
     "data": {
      "text/plain": [
       "'/home/shahabas/shahabas/python'"
      ]
     },
     "execution_count": 104,
     "metadata": {},
     "output_type": "execute_result"
    }
   ],
   "source": [
    "path"
   ]
  },
  {
   "cell_type": "code",
   "execution_count": 1,
   "id": "77085469",
   "metadata": {},
   "outputs": [],
   "source": [
    "def read_doc():\n",
    "    \"\"\"this function help to read the doc or docx file\"\"\"\n",
    "    import textract\n",
    "    import os\n",
    "    path=os.getcwd()\n",
    "    text = textract.process(path+'/Untitled 1.docx')\n",
    "    return text\n",
    "\n"
   ]
  },
  {
   "cell_type": "code",
   "execution_count": 2,
   "id": "5a7d5260",
   "metadata": {},
   "outputs": [
    {
     "data": {
      "text/plain": [
       "b'Hi this is a simple text document for expiremental purpose. Bye bye'"
      ]
     },
     "execution_count": 2,
     "metadata": {},
     "output_type": "execute_result"
    }
   ],
   "source": [
    "read_doc()"
   ]
  },
  {
   "cell_type": "code",
   "execution_count": null,
   "id": "7956aaa5",
   "metadata": {},
   "outputs": [],
   "source": []
  }
 ],
 "metadata": {
  "kernelspec": {
   "display_name": "Python 3 (ipykernel)",
   "language": "python",
   "name": "python3"
  },
  "language_info": {
   "codemirror_mode": {
    "name": "ipython",
    "version": 3
   },
   "file_extension": ".py",
   "mimetype": "text/x-python",
   "name": "python",
   "nbconvert_exporter": "python",
   "pygments_lexer": "ipython3",
   "version": "3.10.4"
  }
 },
 "nbformat": 4,
 "nbformat_minor": 5
}
