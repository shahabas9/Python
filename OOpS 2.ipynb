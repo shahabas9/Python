{
 "cells": [
  {
   "cell_type": "code",
   "execution_count": 1,
   "id": "12f5a772",
   "metadata": {},
   "outputs": [],
   "source": [
    "class Car:\n",
    "    def __init__(self,milage,color,model,year):\n",
    "        self.milage=milage\n",
    "        self.color=color\n",
    "        self.model=model\n",
    "        self.year=year\n",
    "        \n",
    "    def age(self,current_year):\n",
    "        return current_year-self.year\n",
    "    \n",
    "    def __str__(c):\n",
    "        return \"this is from class car inorder to overwrite the memory location\""
   ]
  },
  {
   "cell_type": "code",
   "execution_count": 2,
   "id": "98e27fd3",
   "metadata": {},
   "outputs": [],
   "source": [
    "city=Car(19,\"black\",\"ivtec\",2016)"
   ]
  },
  {
   "cell_type": "code",
   "execution_count": 3,
   "id": "60d1a9e2",
   "metadata": {},
   "outputs": [
    {
     "data": {
      "text/plain": [
       "6"
      ]
     },
     "execution_count": 3,
     "metadata": {},
     "output_type": "execute_result"
    }
   ],
   "source": [
    "city.age(2022)"
   ]
  },
  {
   "cell_type": "code",
   "execution_count": 4,
   "id": "2d7d79eb",
   "metadata": {},
   "outputs": [
    {
     "name": "stdout",
     "output_type": "stream",
     "text": [
      "this is from class car inorder to overwrite the memory location\n"
     ]
    }
   ],
   "source": [
    "print(city)"
   ]
  },
  {
   "cell_type": "code",
   "execution_count": 13,
   "id": "7e5a3c0b",
   "metadata": {},
   "outputs": [],
   "source": [
    "class Calculator:\n",
    "    \n",
    "    def __init__(self):\n",
    "        self.a=int(input())\n",
    "        self.b=int(input())\n",
    "        \n",
    "    def add(self):\n",
    "        sum=self.a+self.b\n",
    "        return sum\n",
    "    def sub(self):\n",
    "        sub=self.a-self.b\n",
    "        return sub\n",
    "    def div(self):\n",
    "        div=self.a/self.b\n",
    "        return div\n",
    "    def mul(self):\n",
    "        mul=self.a*self.b\n",
    "        return mul\n",
    "    def __str__(self):\n",
    "        return \"this is calculator class\""
   ]
  },
  {
   "cell_type": "code",
   "execution_count": 15,
   "id": "cb0a0bf7",
   "metadata": {},
   "outputs": [
    {
     "name": "stdout",
     "output_type": "stream",
     "text": [
      "10\n",
      "2\n"
     ]
    }
   ],
   "source": [
    "c1=Calculator()"
   ]
  },
  {
   "cell_type": "code",
   "execution_count": 16,
   "id": "d7fa3984",
   "metadata": {},
   "outputs": [
    {
     "data": {
      "text/plain": [
       "12"
      ]
     },
     "execution_count": 16,
     "metadata": {},
     "output_type": "execute_result"
    }
   ],
   "source": [
    "c1.add()"
   ]
  },
  {
   "cell_type": "code",
   "execution_count": null,
   "id": "ac4dd0a4",
   "metadata": {},
   "outputs": [],
   "source": []
  }
 ],
 "metadata": {
  "kernelspec": {
   "display_name": "Python 3 (ipykernel)",
   "language": "python",
   "name": "python3"
  },
  "language_info": {
   "codemirror_mode": {
    "name": "ipython",
    "version": 3
   },
   "file_extension": ".py",
   "mimetype": "text/x-python",
   "name": "python",
   "nbconvert_exporter": "python",
   "pygments_lexer": "ipython3",
   "version": "3.10.4"
  }
 },
 "nbformat": 4,
 "nbformat_minor": 5
}
