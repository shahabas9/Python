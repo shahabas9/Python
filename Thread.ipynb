{
 "cells": [
  {
   "cell_type": "code",
   "execution_count": 1,
   "id": "8003defb",
   "metadata": {},
   "outputs": [],
   "source": [
    "import threading"
   ]
  },
  {
   "cell_type": "code",
   "execution_count": 2,
   "id": "96c0e3c7",
   "metadata": {},
   "outputs": [
    {
     "name": "stdout",
     "output_type": "stream",
     "text": [
      "MainThread\n"
     ]
    },
    {
     "name": "stderr",
     "output_type": "stream",
     "text": [
      "/tmp/ipykernel_267252/2763922920.py:1: DeprecationWarning: getName() is deprecated, get the name attribute instead\n",
      "  print(threading.current_thread().getName())\n"
     ]
    }
   ],
   "source": [
    "print(threading.current_thread().getName())"
   ]
  },
  {
   "cell_type": "code",
   "execution_count": 3,
   "id": "5c1cc4ad",
   "metadata": {},
   "outputs": [
    {
     "name": "stdout",
     "output_type": "stream",
     "text": [
      "the current thread is main thread\n"
     ]
    }
   ],
   "source": [
    "if threading.current_thread()==threading.main_thread():\n",
    "    print(\"the current thread is main thread\")\n",
    "else:\n",
    "    print(\"its not the main thread\")\n"
   ]
  },
  {
   "cell_type": "code",
   "execution_count": 4,
   "id": "3ba9dc4f",
   "metadata": {},
   "outputs": [],
   "source": [
    "def display(Name):\n",
    "    print(f\"hello my name is {Name}\")"
   ]
  },
  {
   "cell_type": "code",
   "execution_count": 14,
   "id": "3acc77b0",
   "metadata": {},
   "outputs": [
    {
     "name": "stdout",
     "output_type": "stream",
     "text": [
      "hello my name is shahabas\n",
      "hello my name is shahabas\n",
      "hello my name is shahabas\n",
      "hello my name is shahabas\n",
      "hello my name is shahabas\n"
     ]
    }
   ],
   "source": [
    "for i in range(5):\n",
    "    t=threading.Thread(target=display,args=(\"shahabas\",))\n",
    "    t.start()\n",
    "    t.join()"
   ]
  },
  {
   "cell_type": "code",
   "execution_count": 15,
   "id": "017c5080",
   "metadata": {},
   "outputs": [],
   "source": [
    "class Mythread(threading.Thread):\n",
    "    def run(self):\n",
    "        for i in range(1,6):\n",
    "            print(i)\n",
    "            "
   ]
  },
  {
   "cell_type": "code",
   "execution_count": 19,
   "id": "aa6f61ea",
   "metadata": {},
   "outputs": [],
   "source": [
    "t1=Mythread()"
   ]
  },
  {
   "cell_type": "code",
   "execution_count": 21,
   "id": "9ef82651",
   "metadata": {},
   "outputs": [
    {
     "ename": "RuntimeError",
     "evalue": "threads can only be started once",
     "output_type": "error",
     "traceback": [
      "\u001b[0;31m---------------------------------------------------------------------------\u001b[0m",
      "\u001b[0;31mRuntimeError\u001b[0m                              Traceback (most recent call last)",
      "Cell \u001b[0;32mIn [21], line 1\u001b[0m\n\u001b[0;32m----> 1\u001b[0m \u001b[43mt1\u001b[49m\u001b[38;5;241;43m.\u001b[39;49m\u001b[43mstart\u001b[49m\u001b[43m(\u001b[49m\u001b[43m)\u001b[49m\n\u001b[1;32m      2\u001b[0m t1\u001b[38;5;241m.\u001b[39mjoin()\n",
      "File \u001b[0;32m~/anaconda3/envs/jidoka_env/lib/python3.10/threading.py:923\u001b[0m, in \u001b[0;36mThread.start\u001b[0;34m(self)\u001b[0m\n\u001b[1;32m    920\u001b[0m     \u001b[38;5;28;01mraise\u001b[39;00m \u001b[38;5;167;01mRuntimeError\u001b[39;00m(\u001b[38;5;124m\"\u001b[39m\u001b[38;5;124mthread.__init__() not called\u001b[39m\u001b[38;5;124m\"\u001b[39m)\n\u001b[1;32m    922\u001b[0m \u001b[38;5;28;01mif\u001b[39;00m \u001b[38;5;28mself\u001b[39m\u001b[38;5;241m.\u001b[39m_started\u001b[38;5;241m.\u001b[39mis_set():\n\u001b[0;32m--> 923\u001b[0m     \u001b[38;5;28;01mraise\u001b[39;00m \u001b[38;5;167;01mRuntimeError\u001b[39;00m(\u001b[38;5;124m\"\u001b[39m\u001b[38;5;124mthreads can only be started once\u001b[39m\u001b[38;5;124m\"\u001b[39m)\n\u001b[1;32m    925\u001b[0m \u001b[38;5;28;01mwith\u001b[39;00m _active_limbo_lock:\n\u001b[1;32m    926\u001b[0m     _limbo[\u001b[38;5;28mself\u001b[39m] \u001b[38;5;241m=\u001b[39m \u001b[38;5;28mself\u001b[39m\n",
      "\u001b[0;31mRuntimeError\u001b[0m: threads can only be started once"
     ]
    }
   ],
   "source": [
    "t1.start()\n",
    "t1.join()"
   ]
  },
  {
   "cell_type": "code",
   "execution_count": 47,
   "id": "14fa24f5",
   "metadata": {},
   "outputs": [],
   "source": [
    "from threading import *\n",
    "from time import *"
   ]
  },
  {
   "cell_type": "code",
   "execution_count": 24,
   "id": "e3b9315e",
   "metadata": {},
   "outputs": [
    {
     "name": "stdout",
     "output_type": "stream",
     "text": [
      "guna\n"
     ]
    }
   ],
   "source": [
    "class Mythread(Thread):\n",
    "    def __init__(self,string):\n",
    "        Thread.__init__(self)\n",
    "        self.string=string\n",
    "    def run(self):\n",
    "        print(self.string)\n",
    "        \n",
    "        \n"
   ]
  },
  {
   "cell_type": "code",
   "execution_count": 27,
   "id": "f6802113",
   "metadata": {},
   "outputs": [],
   "source": []
  },
  {
   "cell_type": "code",
   "execution_count": 33,
   "id": "2076add9",
   "metadata": {},
   "outputs": [
    {
     "name": "stdout",
     "output_type": "stream",
     "text": [
      "0\n",
      "jidoka\n",
      "1\n",
      "jidoka\n",
      "2\n",
      "jidoka\n",
      "3\n",
      "jidoka\n",
      "4\n",
      "jidoka\n",
      "5\n",
      "jidoka\n"
     ]
    }
   ],
   "source": [
    "for i in range(6):\n",
    "    t2=Mythread(\"jidoka\")\n",
    "    print(i)\n",
    "    t2.start()\n",
    "    t2.join()"
   ]
  },
  {
   "cell_type": "code",
   "execution_count": 34,
   "id": "13641e17",
   "metadata": {},
   "outputs": [],
   "source": [
    "class Mythread1():\n",
    "    def __init__(self,string):\n",
    "        self.string=string\n",
    "        \n",
    "    def display(self):\n",
    "        print(f\"hello my name is {self.string}\")"
   ]
  },
  {
   "cell_type": "code",
   "execution_count": 39,
   "id": "169dc7cb",
   "metadata": {},
   "outputs": [
    {
     "name": "stdout",
     "output_type": "stream",
     "text": [
      "hello my name is AAru\n"
     ]
    }
   ],
   "source": [
    "obj=Mythread1(\"AAru\")\n",
    "t1=Thread(target=obj.display)\n",
    "t1.start()\n",
    "t1.join()"
   ]
  },
  {
   "cell_type": "code",
   "execution_count": 40,
   "id": "a91517aa",
   "metadata": {},
   "outputs": [
    {
     "data": {
      "text/plain": [
       "False"
      ]
     },
     "execution_count": 40,
     "metadata": {},
     "output_type": "execute_result"
    }
   ],
   "source": [
    "t1.is_alive()"
   ]
  },
  {
   "cell_type": "code",
   "execution_count": 41,
   "id": "588b89c8",
   "metadata": {},
   "outputs": [
    {
     "name": "stderr",
     "output_type": "stream",
     "text": [
      "/tmp/ipykernel_267252/380418116.py:1: DeprecationWarning: getName() is deprecated, get the name attribute instead\n",
      "  t1.getName()\n"
     ]
    },
    {
     "data": {
      "text/plain": [
       "'Thread-64 (display)'"
      ]
     },
     "execution_count": 41,
     "metadata": {},
     "output_type": "execute_result"
    }
   ],
   "source": [
    "t1.getName()"
   ]
  },
  {
   "cell_type": "code",
   "execution_count": 42,
   "id": "4320aec2",
   "metadata": {},
   "outputs": [
    {
     "name": "stderr",
     "output_type": "stream",
     "text": [
      "/tmp/ipykernel_267252/3368198461.py:1: DeprecationWarning: isDaemon() is deprecated, get the daemon attribute instead\n",
      "  t1.isDaemon()\n"
     ]
    },
    {
     "data": {
      "text/plain": [
       "False"
      ]
     },
     "execution_count": 42,
     "metadata": {},
     "output_type": "execute_result"
    }
   ],
   "source": [
    "t1.isDaemon()"
   ]
  },
  {
   "cell_type": "markdown",
   "id": "ca0b1471",
   "metadata": {},
   "source": [
    "# single tasking using a thread"
   ]
  },
  {
   "cell_type": "code",
   "execution_count": 51,
   "id": "4f0fb19a",
   "metadata": {},
   "outputs": [],
   "source": [
    "class my_thread():\n",
    "    def prepare_tea(self):\n",
    "        self.task1()\n",
    "        self.task2()\n",
    "        self.task3()\n",
    "    def task1(self):\n",
    "        print(\"boiling milk and tea powder for 5 minutes\",end='\\n')\n",
    "        sleep(5)\n",
    "        print(\"Done\")\n",
    "    def task2(self):\n",
    "        print(\"add sugar and boil for 3 minutes\",end='\\n')\n",
    "        sleep(3)\n",
    "        print(\"Done\")\n",
    "    def task3(self):\n",
    "        print(\"filter it and serve it\",end=' ')\n",
    "        print(\"Done\")\n",
    "    \n",
    "        "
   ]
  },
  {
   "cell_type": "code",
   "execution_count": 52,
   "id": "12e7ac40",
   "metadata": {},
   "outputs": [
    {
     "name": "stdout",
     "output_type": "stream",
     "text": [
      "boiling milk and tea powder for 5 minutes\n",
      "Done\n",
      "add sugar and boil for 3 minutes\n",
      "Done\n",
      "filter it and serve it Done\n"
     ]
    }
   ],
   "source": [
    "obj=my_thread()\n",
    "t1=Thread(target=obj.prepare_tea)\n",
    "t1.start()\n",
    "t1.join()"
   ]
  },
  {
   "cell_type": "code",
   "execution_count": null,
   "id": "2f07e590",
   "metadata": {},
   "outputs": [],
   "source": []
  }
 ],
 "metadata": {
  "kernelspec": {
   "display_name": "Python 3 (ipykernel)",
   "language": "python",
   "name": "python3"
  },
  "language_info": {
   "codemirror_mode": {
    "name": "ipython",
    "version": 3
   },
   "file_extension": ".py",
   "mimetype": "text/x-python",
   "name": "python",
   "nbconvert_exporter": "python",
   "pygments_lexer": "ipython3",
   "version": "3.10.4"
  }
 },
 "nbformat": 4,
 "nbformat_minor": 5
}
