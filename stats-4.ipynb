{
 "cells": [
  {
   "cell_type": "code",
   "execution_count": null,
   "id": "f5cedfb6",
   "metadata": {},
   "outputs": [],
   "source": [
    "data=[12,35,45,23,78,10,89,53,37,61]"
   ]
  },
  {
   "cell_type": "code",
   "execution_count": null,
   "id": "4c993f4e",
   "metadata": {},
   "outputs": [],
   "source": [
    "import seaborn as sns\n",
    "import pandas as pd\n",
    "import numpy as np"
   ]
  },
  {
   "cell_type": "code",
   "execution_count": null,
   "id": "3a145f84",
   "metadata": {},
   "outputs": [],
   "source": [
    "sns.histplot(data)"
   ]
  },
  {
   "cell_type": "code",
   "execution_count": null,
   "id": "32d5f2c6",
   "metadata": {},
   "outputs": [],
   "source": [
    "sns.histplot(data,kde=True)"
   ]
  },
  {
   "cell_type": "code",
   "execution_count": null,
   "id": "6f754e1b",
   "metadata": {},
   "outputs": [],
   "source": [
    "data_iris=pd.read_csv(\"https://gist.githubusercontent.com/netj/8836201/raw/6f9306ad21398ea43cba4f7d537619d0e07d5ae3/iris.csv\")"
   ]
  },
  {
   "cell_type": "code",
   "execution_count": null,
   "id": "50fcf8f5",
   "metadata": {},
   "outputs": [],
   "source": [
    "data_iris"
   ]
  },
  {
   "cell_type": "code",
   "execution_count": null,
   "id": "57d5ba6b",
   "metadata": {},
   "outputs": [],
   "source": [
    "s=np.random.normal(0.2,0.5,1000)"
   ]
  },
  {
   "cell_type": "code",
   "execution_count": null,
   "id": "37804916",
   "metadata": {},
   "outputs": [],
   "source": [
    "sns.histplot(s,kde=True)"
   ]
  },
  {
   "cell_type": "code",
   "execution_count": null,
   "id": "7d307735",
   "metadata": {},
   "outputs": [],
   "source": [
    "sns.histplot(data_iris[\"petal.length\"],kde=True)"
   ]
  },
  {
   "cell_type": "code",
   "execution_count": null,
   "id": "3dd38450",
   "metadata": {},
   "outputs": [],
   "source": [
    "p=np.random.lognormal(3.0,1.0,1000)"
   ]
  },
  {
   "cell_type": "code",
   "execution_count": null,
   "id": "c6b2990b",
   "metadata": {},
   "outputs": [],
   "source": [
    "sns.histplot(p,kde=True)"
   ]
  },
  {
   "cell_type": "code",
   "execution_count": null,
   "id": "c1d6a7cc",
   "metadata": {},
   "outputs": [],
   "source": [
    "sns.histplot(np.log(p),kde=True)"
   ]
  },
  {
   "cell_type": "code",
   "execution_count": null,
   "id": "7cc455c9",
   "metadata": {},
   "outputs": [],
   "source": [
    "import matplotlib.pyplot as plt\n",
    "import scipy.stats as stat\n",
    "import pylab"
   ]
  },
  {
   "cell_type": "code",
   "execution_count": null,
   "id": "741294f7",
   "metadata": {},
   "outputs": [],
   "source": [
    "def plot_data(sample):\n",
    "    plt.figure(figsize=(10,6))\n",
    "    plt.subplot(1,2,1)\n",
    "    sns.histplot(sample)\n",
    "    plt.subplot(1,2,2)\n",
    "    stat.probplot(sample,dist='norm',plot=pylab)"
   ]
  },
  {
   "cell_type": "code",
   "execution_count": null,
   "id": "749d0785",
   "metadata": {},
   "outputs": [],
   "source": [
    "plot_data(data)"
   ]
  },
  {
   "cell_type": "code",
   "execution_count": null,
   "id": "24ceb232",
   "metadata": {
    "scrolled": true
   },
   "outputs": [],
   "source": [
    "pip install pandas-profiling"
   ]
  },
  {
   "cell_type": "code",
   "execution_count": null,
   "id": "8c103afd",
   "metadata": {},
   "outputs": [],
   "source": [
    "import ydata_profiling\n",
    "data_titanic=pd.read_csv(\"https://raw.githubusercontent.com/datasciencedojo/datasets/master/titanic.csv\")"
   ]
  },
  {
   "cell_type": "code",
   "execution_count": null,
   "id": "12660c3d",
   "metadata": {},
   "outputs": [],
   "source": [
    "profile=data_titanic.profile_report()"
   ]
  },
  {
   "cell_type": "code",
   "execution_count": null,
   "id": "35049b67",
   "metadata": {},
   "outputs": [],
   "source": [
    "profile"
   ]
  },
  {
   "cell_type": "code",
   "execution_count": null,
   "id": "77cc3901",
   "metadata": {},
   "outputs": [],
   "source": []
  }
 ],
 "metadata": {
  "kernelspec": {
   "display_name": "Python 3 (ipykernel)",
   "language": "python",
   "name": "python3"
  },
  "language_info": {
   "codemirror_mode": {
    "name": "ipython",
    "version": 3
   },
   "file_extension": ".py",
   "mimetype": "text/x-python",
   "name": "python",
   "nbconvert_exporter": "python",
   "pygments_lexer": "ipython3",
   "version": "3.10.4"
  }
 },
 "nbformat": 4,
 "nbformat_minor": 5
}
